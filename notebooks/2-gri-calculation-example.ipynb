{
 "cells": [
  {
   "cell_type": "markdown",
   "metadata": {},
   "source": [
    "# 2. GRI Calculation Example\n",
    "\n",
    "This notebook demonstrates how to calculate the Global Representativeness Index (GRI) and Diversity Score using the processed benchmark data and cleaned survey data.\n",
    "\n",
    "## Overview\n",
    "\n",
    "The GRI Scorecard evaluates representativeness across three key dimensions:\n",
    "1. **Country × Gender × Age**\n",
    "2. **Country × Religion**\n",
    "3. **Country × Environment (Urban/Rural)**\n",
    "\n",
    "For each dimension, we calculate:\n",
    "- **GRI Score**: How well proportions match (0.0 = complete mismatch, 1.0 = perfect match)\n",
    "- **Diversity Score**: What percentage of relevant population strata are represented"
   ]
  },
  {
   "cell_type": "code",
   "execution_count": null,
   "metadata": {},
   "outputs": [],
   "source": [
    "import pandas as pd\n",
    "import numpy as np\n",
    "import matplotlib.pyplot as plt\n",
    "import seaborn as sns\n",
    "import sys\n",
    "import os\n",
    "\n",
    "# Add the gri module to the path\n",
    "sys.path.append('..')\n",
    "from gri.calculator import calculate_gri, calculate_diversity_score\n",
    "from gri.utils import load_data\n",
    "\n",
    "# Set plotting style\n",
    "plt.style.use('default')\n",
    "sns.set_palette('husl')\n",
    "\n",
    "# Set pandas display options\n",
    "pd.set_option('display.max_columns', None)\n",
    "pd.set_option('display.width', None)"
   ]
  },
  {
   "cell_type": "markdown",
   "metadata": {},
   "source": [
    "## 1. Load Data"
   ]
  },
  {
   "cell_type": "code",
   "execution_count": null,
   "metadata": {},
   "outputs": [],
   "source": [
    "# Load benchmark data\n",
    "benchmark_age_gender = load_data('../data/processed/benchmark_country_gender_age.csv')\n",
    "benchmark_religion = load_data('../data/processed/benchmark_country_religion.csv')\n",
    "benchmark_environment = load_data('../data/processed/benchmark_country_environment.csv')\n",
    "\n",
    "# Load cleaned survey data\n",
    "survey_data = load_data('../data/processed/sample_survey_data.csv')\n",
    "\n",
    "print(f\"Survey data loaded: {len(survey_data)} participants\")\n",
    "print(f\"Benchmark data loaded: {len(benchmark_age_gender):,} age/gender + {len(benchmark_religion):,} religion + {len(benchmark_environment):,} environment strata\")"
   ]
  },
  {
   "cell_type": "markdown",
   "metadata": {},
   "source": [
    "## 2. Calculate GRI for Country × Gender × Age"
   ]
  },
  {
   "cell_type": "code",
   "execution_count": null,
   "metadata": {},
   "outputs": [],
   "source": [
    "# Calculate GRI for Country × Gender × Age dimension\n",
    "strata_cols_age_gender = ['country', 'gender', 'age_group']\n",
    "\n",
    "gri_age_gender = calculate_gri(\n",
    "    survey_data, \n",
    "    benchmark_age_gender, \n",
    "    strata_cols_age_gender\n",
    ")\n",
    "\n",
    "diversity_age_gender = calculate_diversity_score(\n",
    "    survey_data,\n",
    "    benchmark_age_gender,\n",
    "    strata_cols_age_gender\n",
    ")\n",
    "\n",
    "print(\"Country × Gender × Age Results:\")\n",
    "print(f\"  GRI Score: {gri_age_gender:.4f}\")\n",
    "print(f\"  Diversity Score: {diversity_age_gender:.4f}\")\n",
    "\n",
    "# Show sample proportions vs benchmark for context\n",
    "sample_counts = survey_data.groupby(strata_cols_age_gender).size().reset_index(name='count')\n",
    "sample_counts['sample_proportion'] = sample_counts['count'] / len(survey_data)\n",
    "\n",
    "print(f\"\\nSample includes {len(sample_counts)} unique strata combinations\")\n",
    "print(\"Top 5 most represented strata in sample:\")\n",
    "print(sample_counts.nlargest(5, 'sample_proportion')[['country', 'gender', 'age_group', 'sample_proportion']])"
   ]
  },
  {
   "cell_type": "markdown",
   "metadata": {},
   "source": [
    "## 3. Calculate GRI for Country × Religion"
   ]
  },
  {
   "cell_type": "code",
   "execution_count": null,
   "metadata": {},
   "outputs": [],
   "source": [
    "# Calculate GRI for Country × Religion dimension\n",
    "strata_cols_religion = ['country', 'religion']\n",
    "\n",
    "gri_religion = calculate_gri(\n",
    "    survey_data,\n",
    "    benchmark_religion,\n",
    "    strata_cols_religion\n",
    ")\n",
    "\n",
    "diversity_religion = calculate_diversity_score(\n",
    "    survey_data,\n",
    "    benchmark_religion,\n",
    "    strata_cols_religion\n",
    ")\n",
    "\n",
    "print(\"Country × Religion Results:\")\n",
    "print(f\"  GRI Score: {gri_religion:.4f}\")\n",
    "print(f\"  Diversity Score: {diversity_religion:.4f}\")\n",
    "\n",
    "# Show sample religious distribution\n",
    "religion_dist = survey_data['religion'].value_counts(normalize=True)\n",
    "print(\"\\nSample religious distribution:\")\n",
    "for religion, prop in religion_dist.head().items():\n",
    "    print(f\"  {religion}: {prop:.3f}\")"
   ]
  },
  {
   "cell_type": "markdown",
   "metadata": {},
   "source": [
    "## 4. Calculate GRI for Country × Environment"
   ]
  },
  {
   "cell_type": "code",
   "execution_count": null,
   "metadata": {},
   "outputs": [],
   "source": [
    "# Calculate GRI for Country × Environment dimension\n",
    "strata_cols_environment = ['country', 'environment']\n",
    "\n",
    "gri_environment = calculate_gri(\n",
    "    survey_data,\n",
    "    benchmark_environment,\n",
    "    strata_cols_environment\n",
    ")\n",
    "\n",
    "diversity_environment = calculate_diversity_score(\n",
    "    survey_data,\n",
    "    benchmark_environment,\n",
    "    strata_cols_environment\n",
    ")\n",
    "\n",
    "print(\"Country × Environment Results:\")\n",
    "print(f\"  GRI Score: {gri_environment:.4f}\")\n",
    "print(f\"  Diversity Score: {diversity_environment:.4f}\")\n",
    "\n",
    "# Show sample environment distribution\n",
    "env_dist = survey_data['environment'].value_counts(normalize=True)\n",
    "print(\"\\nSample environment distribution:\")\n",
    "for env, prop in env_dist.items():\n",
    "    print(f\"  {env}: {prop:.3f}\")"
   ]
  },
  {
   "cell_type": "markdown",
   "metadata": {},
   "source": [
    "## 5. GRI Scorecard Summary"
   ]
  },
  {
   "cell_type": "code",
   "execution_count": null,
   "metadata": {},
   "outputs": [],
   "source": [
    "# Create GRI Scorecard\n",
    "scorecard = pd.DataFrame({\n",
    "    'Dimension': ['Country × Gender × Age', 'Country × Religion', 'Country × Environment'],\n",
    "    'GRI Score': [gri_age_gender, gri_religion, gri_environment],\n",
    "    'Diversity Score': [diversity_age_gender, diversity_religion, diversity_environment]\n",
    "})\n",
    "\n",
    "# Calculate Average GRI\n",
    "average_gri = scorecard['GRI Score'].mean()\n",
    "average_diversity = scorecard['Diversity Score'].mean()\n",
    "\n",
    "print(\"=== GRI SCORECARD ===\")\n",
    "print(scorecard.to_string(index=False, float_format='%.4f'))\n",
    "print(f\"\\nAverage GRI: {average_gri:.4f}\")\n",
    "print(f\"Average Diversity Score: {average_diversity:.4f}\")\n",
    "\n",
    "# Interpretation\n",
    "print(\"\\n=== INTERPRETATION ===\")\n",
    "if average_gri >= 0.8:\n",
    "    gri_interpretation = \"Excellent representativeness\"\nelif average_gri >= 0.6:\n",
    "    gri_interpretation = \"Good representativeness\"\nelif average_gri >= 0.4:\n",
    "    gri_interpretation = \"Moderate representativeness\"\nelse:\n",
    "    gri_interpretation = \"Poor representativeness\"\n",
    "\n",
    "if average_diversity >= 0.8:\n",
    "    diversity_interpretation = \"Excellent diversity coverage\"\nelif average_diversity >= 0.6:\n",
    "    diversity_interpretation = \"Good diversity coverage\"\nelif average_diversity >= 0.4:\n",
    "    diversity_interpretation = \"Moderate diversity coverage\"\nelse:\n",
    "    diversity_interpretation = \"Poor diversity coverage\"\n",
    "\n",
    "print(f\"Overall Assessment: {gri_interpretation}\")\n",
    "print(f\"Coverage Assessment: {diversity_interpretation}\")"
   ]
  },
  {
   "cell_type": "markdown",
   "metadata": {},
   "source": [
    "## 6. Visualize Results"
   ]
  },
  {
   "cell_type": "code",
   "execution_count": null,
   "metadata": {},
   "outputs": [],
   "source": [
    "# Create visualization of GRI scores\n",
    "fig, (ax1, ax2) = plt.subplots(1, 2, figsize=(14, 6))\n",
    "\n",
    "# GRI Scores bar chart\n",
    "bars1 = ax1.bar(range(len(scorecard)), scorecard['GRI Score'], \n",
    "                color=['#1f77b4', '#ff7f0e', '#2ca02c'], alpha=0.8)\nax1.axhline(y=average_gri, color='red', linestyle='--', alpha=0.7, label=f'Average: {average_gri:.3f}')\nax1.set_xlabel('Dimension')\nax1.set_ylabel('GRI Score')\nax1.set_title('Global Representativeness Index by Dimension')\nax1.set_xticks(range(len(scorecard)))\nax1.set_xticklabels([d.replace(' × ', '\\n×\\n') for d in scorecard['Dimension']], rotation=0, ha='center')\nax1.set_ylim(0, 1)\nax1.legend()\nax1.grid(axis='y', alpha=0.3)\n\n# Add value labels on bars\nfor i, bar in enumerate(bars1):\n    height = bar.get_height()\n    ax1.text(bar.get_x() + bar.get_width()/2., height + 0.02,\n             f'{height:.3f}', ha='center', va='bottom', fontweight='bold')\n\n# Diversity Scores bar chart\nbars2 = ax2.bar(range(len(scorecard)), scorecard['Diversity Score'], \n                color=['#1f77b4', '#ff7f0e', '#2ca02c'], alpha=0.8)\nax2.axhline(y=average_diversity, color='red', linestyle='--', alpha=0.7, label=f'Average: {average_diversity:.3f}')\nax2.set_xlabel('Dimension')\nax2.set_ylabel('Diversity Score')\nax2.set_title('Diversity Coverage by Dimension')\nax2.set_xticks(range(len(scorecard)))\nax2.set_xticklabels([d.replace(' × ', '\\n×\\n') for d in scorecard['Dimension']], rotation=0, ha='center')\nax2.set_ylim(0, 1)\nax2.legend()\nax2.grid(axis='y', alpha=0.3)\n\n# Add value labels on bars\nfor i, bar in enumerate(bars2):\n    height = bar.get_height()\n    ax2.text(bar.get_x() + bar.get_width()/2., height + 0.02,\n             f'{height:.3f}', ha='center', va='bottom', fontweight='bold')\n\nplt.tight_layout()\nplt.show()"
   ]
  },
  {
   "cell_type": "markdown",
   "metadata": {},
   "source": [
    "## 7. Sample Distribution Analysis"
   ]
  },
  {
   "cell_type": "code",
   "execution_count": null,
   "metadata": {},
   "outputs": [],
   "source": [
    "# Analyze sample composition\n",
    "fig, axes = plt.subplots(2, 2, figsize=(15, 10))\n",
    "\n",
    "# Country distribution\n",
    "country_counts = survey_data['country'].value_counts()\n",
    "axes[0,0].bar(range(len(country_counts)), country_counts.values)\n",
    "axes[0,0].set_title('Sample Distribution by Country')\n",
    "axes[0,0].set_xlabel('Country')\n",
    "axes[0,0].set_ylabel('Count')\n",
    "axes[0,0].set_xticks(range(len(country_counts)))\n",
    "axes[0,0].set_xticklabels(country_counts.index, rotation=45, ha='right')\n",
    "\n",
    "# Gender distribution\n",
    "gender_counts = survey_data['gender'].value_counts()\n",
    "axes[0,1].pie(gender_counts.values, labels=gender_counts.index, autopct='%1.1f%%')\n",
    "axes[0,1].set_title('Sample Distribution by Gender')\n",
    "\n",
    "# Age distribution\n",
    "age_counts = survey_data['age_group'].value_counts()\n",
    "axes[1,0].bar(range(len(age_counts)), age_counts.values)\n",
    "axes[1,0].set_title('Sample Distribution by Age Group')\n",
    "axes[1,0].set_xlabel('Age Group')\n",
    "axes[1,0].set_ylabel('Count')\n",
    "axes[1,0].set_xticks(range(len(age_counts)))\n",
    "axes[1,0].set_xticklabels(age_counts.index, rotation=45)\n",
    "\n",
    "# Religion distribution\n",
    "religion_counts = survey_data['religion'].value_counts()\n",
    "axes[1,1].bar(range(len(religion_counts)), religion_counts.values)\n",
    "axes[1,1].set_title('Sample Distribution by Religion')\n",
    "axes[1,1].set_xlabel('Religion')\n",
    "axes[1,1].set_ylabel('Count')\n",
    "axes[1,1].set_xticks(range(len(religion_counts)))\n",
    "axes[1,1].set_xticklabels([r[:15] + '...' if len(r) > 15 else r for r in religion_counts.index], \n",
    "                          rotation=45, ha='right')\n",
    "\n",
    "plt.tight_layout()\n",
    "plt.show()"
   ]
  },
  {
   "cell_type": "markdown",
   "metadata": {},
   "source": [
    "## 8. Save Results"
   ]
  },
  {
   "cell_type": "code",
   "execution_count": null,
   "metadata": {},
   "outputs": [],
   "source": [
    "# Save GRI results\n",
    "results = {\n",
    "    'survey_participants': len(survey_data),\n",
    "    'gri_country_gender_age': gri_age_gender,\n",
    "    'gri_country_religion': gri_religion,\n",
    "    'gri_country_environment': gri_environment,\n",
    "    'average_gri': average_gri,\n",
    "    'diversity_country_gender_age': diversity_age_gender,\n",
    "    'diversity_country_religion': diversity_religion,\n",
    "    'diversity_country_environment': diversity_environment,\n",
    "    'average_diversity': average_diversity,\n",
    "    'assessment': gri_interpretation,\n",
    "    'coverage_assessment': diversity_interpretation\n",
    "}\n",
    "\n",
    "# Save as JSON\n",
    "import json\n",
    "with open('../data/processed/gri_results.json', 'w') as f:\n",
    "    json.dump(results, f, indent=2)\n",
    "\n",
    "# Save scorecard as CSV\n",
    "scorecard_extended = scorecard.copy()\n",
    "scorecard_extended.loc[len(scorecard_extended)] = ['AVERAGE', average_gri, average_diversity]\n",
    "scorecard_extended.to_csv('../data/processed/gri_scorecard.csv', index=False)\n",
    "\n",
    "print(\"Results saved:\")\n",
    "print(\"  - data/processed/gri_results.json\")\n",
    "print(\"  - data/processed/gri_scorecard.csv\")"
   ]
  },
  {
   "cell_type": "markdown",
   "metadata": {},
   "source": [
    "## Summary\n",
    "\n",
    "In this notebook, we have:\n",
    "\n",
    "1. ✅ Calculated GRI scores for all three scorecard dimensions\n",
    "2. ✅ Calculated diversity scores showing coverage breadth\n",
    "3. ✅ Created a comprehensive GRI Scorecard\n",
    "4. ✅ Visualized results with clear charts\n",
    "5. ✅ Analyzed sample composition and distributions\n",
    "6. ✅ Saved results for further analysis\n",
    "\n",
    "**Key Findings:**\n",
    "- **Average GRI Score**: {average_gri:.3f} ({gri_interpretation})\n",
    "- **Average Diversity Score**: {average_diversity:.3f} ({diversity_interpretation})\n",
    "\n",
    "**Next Steps:**\n",
    "- Use `3-advanced-analysis.ipynb` to identify specific representativeness gaps\n",
    "- Compare results across different surveys or time periods\n",
    "- Use insights to improve future data collection targeting\n",
    "\n",
    "**Files Created:**\n",
    "- `data/processed/gri_results.json` - Complete results in JSON format\n",
    "- `data/processed/gri_scorecard.csv` - Scorecard table for reporting"
   ]
  }
 ],
 "metadata": {
  "kernelspec": {
   "display_name": "Python 3",
   "language": "python",
   "name": "python3"
  },
  "language_info": {
   "codemirror_mode": {
    "name": "ipython",
    "version": 3
   },
   "file_extension": ".py",
   "name": "python",
   "nbconvert_exporter": "python",
   "pygments_lexer": "ipython3",\n   "version": "3.8.5"
  }
 },
 "nbformat": 4,
 "nbformat_minor": 4
}