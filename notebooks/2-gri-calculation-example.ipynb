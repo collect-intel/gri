{
 "cells": [
  {
   "cell_type": "markdown",
   "metadata": {},
   "source": "# 2. GRI Calculation Example\n\nThis notebook demonstrates how to calculate the Global Representativeness Index (GRI) using the new `GRIAnalysis` class.\n\n## Overview\n\nThe **GRI Scorecard** provides a comprehensive assessment of survey representativeness across three key dimensions:\n1. **Country × Gender × Age**\n2. **Country × Religion**\n3. **Country × Environment (Urban/Rural)**\n\nFor each dimension, we calculate:\n- **GRI Score**: Measures proportional accuracy (0.0 to 1.0)\n- **Diversity Score**: Measures coverage breadth (0.0 to 1.0)\n- **Max Possible Score**: Shows theoretical maximum given current participants\n\nThe notebook also includes:\n- Top contributing segments analysis\n- Visualizations of over/under-represented groups\n- Impact analysis showing potential improvements"
  },
  {
   "cell_type": "code",
   "metadata": {
    "execution": {
     "iopub.execute_input": "2025-06-14T01:21:55.690890Z",
     "iopub.status.busy": "2025-06-14T01:21:55.690696Z",
     "iopub.status.idle": "2025-06-14T01:21:56.221187Z",
     "shell.execute_reply": "2025-06-14T01:21:56.220925Z"
    }
   },
   "outputs": [],
   "source": "import pandas as pd\nimport numpy as np\nimport matplotlib.pyplot as plt\nimport seaborn as sns\nfrom pathlib import Path\nfrom gri import GRIAnalysis\n\n# Set plotting style\nplt.style.use('default')\nsns.set_palette('husl')\n\n# Set pandas display options\npd.set_option('display.max_columns', None)\npd.set_option('display.width', None)",
   "execution_count": null
  },
  {
   "cell_type": "markdown",
   "metadata": {},
   "source": "## 1. Initialize GRI Analysis"
  },
  {
   "cell_type": "code",
   "metadata": {
    "execution": {
     "iopub.execute_input": "2025-06-14T01:21:56.222986Z",
     "iopub.status.busy": "2025-06-14T01:21:56.222825Z",
     "iopub.status.idle": "2025-06-14T01:21:56.233078Z",
     "shell.execute_reply": "2025-06-14T01:21:56.232727Z"
    }
   },
   "outputs": [],
   "source": "# Initialize GRI Analysis with GD3 survey data\n# First check if we have the raw data from the submodule\nraw_path = Path('../data/raw/survey_data/global-dialogues/Data/GD3/GD3_participants.csv')\nprocessed_path = Path('../data/processed/gd3_demographics.csv')\n\nif raw_path.exists():\n    gri = GRIAnalysis.from_survey_file(\n        filepath=str(raw_path),\n        survey_type='gd'\n    )\nelif processed_path.exists():\n    # Load from processed file\n    survey_data = pd.read_csv(processed_path)\n    gri = GRIAnalysis(survey_data=survey_data, survey_name='GD3')\nelse:\n    raise FileNotFoundError(\"No GD3 data found. Please run 'git submodule update --init --recursive'\")\n\n# Show summary\nprint(\"Survey loaded successfully!\")\nprint(f\"Participants: {len(gri.survey_data):,}\")\nprint(f\"Countries: {gri.survey_data['country'].nunique()}\")\nprint(f\"Top 5 countries: {', '.join(gri.survey_data['country'].value_counts().head().index)}\")",
   "execution_count": null
  },
  {
   "cell_type": "markdown",
   "metadata": {},
   "source": "## 2. Calculate GRI Scorecard"
  },
  {
   "cell_type": "code",
   "metadata": {
    "execution": {
     "iopub.execute_input": "2025-06-14T01:21:56.252312Z",
     "iopub.status.busy": "2025-06-14T01:21:56.252169Z",
     "iopub.status.idle": "2025-06-14T01:21:56.265718Z",
     "shell.execute_reply": "2025-06-14T01:21:56.265189Z"
    }
   },
   "outputs": [],
   "source": "# Calculate complete scorecard with maximum possible scores\nscorecard = gri.calculate_scorecard(include_max_possible=True)\n\n# Display results\nprint(\"=== GRI SCORECARD ===\\n\")\nprint(scorecard.to_string(index=False, float_format='%.4f'))",
   "execution_count": null
  },
  {
   "cell_type": "markdown",
   "metadata": {},
   "source": "## 3. Visualize Results"
  },
  {
   "cell_type": "code",
   "metadata": {
    "execution": {
     "iopub.execute_input": "2025-06-14T01:21:56.267567Z",
     "iopub.status.busy": "2025-06-14T01:21:56.267447Z",
     "iopub.status.idle": "2025-06-14T01:21:56.276912Z",
     "shell.execute_reply": "2025-06-14T01:21:56.276564Z"
    }
   },
   "outputs": [],
   "source": "# Create visualization\nfig = gri.plot_scorecard()\nplt.show()",
   "execution_count": null
  },
  {
   "cell_type": "markdown",
   "metadata": {},
   "source": "## 4. Top Contributing Segments Analysis\n\nLet's identify which demographic segments contribute most to non-representativeness."
  },
  {
   "cell_type": "code",
   "metadata": {
    "execution": {
     "iopub.execute_input": "2025-06-14T01:21:56.278607Z",
     "iopub.status.busy": "2025-06-14T01:21:56.278486Z",
     "iopub.status.idle": "2025-06-14T01:21:56.286353Z",
     "shell.execute_reply": "2025-06-14T01:21:56.285954Z"
    }
   },
   "outputs": [],
   "source": "# Get top contributing segments for Country × Gender × Age\ntop_age_gender = gri.get_top_segments('Country × Gender × Age', n=10)\n\nprint(\"=== TOP CONTRIBUTING SEGMENTS: Country × Gender × Age ===\\n\")\nprint(\"Top 10 segments contributing to non-representativeness:\")\n\n# Adjust column names based on actual output\nif 'deviation' in top_age_gender.columns:\n    print(top_age_gender[['country', 'gender', 'age_group', 'deviation', \n                          'sample_proportion', 'benchmark_proportion']].to_string(index=False))\n    \n    # Calculate potential improvement\n    current_gri = scorecard[scorecard['dimension'] == 'Country × Gender × Age']['gri_score'].values[0]\n    potential_improvement = top_age_gender['abs_deviation'].sum() / 2  # TVD contribution\n    print(f\"\\nCurrent GRI: {current_gri:.4f}\")\n    print(f\"If top 10 deviations were fixed: {current_gri + potential_improvement:.4f} (+{potential_improvement:.4f})\")\nelse:\n    print(top_age_gender.head(10))",
   "execution_count": null
  },
  {
   "cell_type": "markdown",
   "metadata": {},
   "source": "## 5. Visualize Over/Under-Represented Groups"
  },
  {
   "cell_type": "code",
   "metadata": {
    "execution": {
     "iopub.execute_input": "2025-06-14T01:21:56.288803Z",
     "iopub.status.busy": "2025-06-14T01:21:56.288425Z",
     "iopub.status.idle": "2025-06-14T01:21:56.294900Z",
     "shell.execute_reply": "2025-06-14T01:21:56.294238Z"
    }
   },
   "outputs": [],
   "source": "# Visualize top deviations\ngri.plot_top_deviations('Country × Gender × Age', n=15)\nplt.show()",
   "execution_count": null
  },
  {
   "cell_type": "markdown",
   "metadata": {},
   "source": "## 6. Country-Level Analysis\n\nLet's analyze representation at the country level to identify geographic gaps."
  },
  {
   "cell_type": "code",
   "metadata": {
    "execution": {
     "iopub.execute_input": "2025-06-14T01:21:56.296912Z",
     "iopub.status.busy": "2025-06-14T01:21:56.296620Z",
     "iopub.status.idle": "2025-06-14T01:21:56.415610Z",
     "shell.execute_reply": "2025-06-14T01:21:56.415367Z"
    }
   },
   "outputs": [],
   "source": "# Get country-level deviations for religion dimension\ncountry_religion = gri.get_top_segments('Country × Religion', n=20)\n\n# Focus on country-level patterns\nif 'country' in country_religion.columns:\n    country_summary = country_religion.groupby('country').agg({\n        'abs_deviation': 'sum',\n        'sample_proportion': 'sum',\n        'benchmark_proportion': 'sum'\n    }).reset_index()\n    \n    # Add representation status\n    country_summary['representation'] = country_summary.apply(\n        lambda x: 'Over' if x['sample_proportion'] > x['benchmark_proportion'] else 'Under', axis=1\n    )\n    \n    # Sort by impact\n    country_summary = country_summary.sort_values('abs_deviation', ascending=False).head(10)\n    \n    print(\"=== TOP COUNTRY-LEVEL DEVIATIONS ===\\n\")\n    print(country_summary.to_string(index=False, float_format='%.4f'))\nelse:\n    print(\"Country-level analysis not available with current data structure\")\n    print(country_religion.head(10))",
   "execution_count": null
  },
  {
   "cell_type": "markdown",
   "metadata": {},
   "source": "## 7. Impact Analysis\n\nLet's analyze the cumulative impact of fixing deviations to understand the path to better representativeness."
  },
  {
   "cell_type": "code",
   "metadata": {
    "execution": {
     "iopub.execute_input": "2025-06-14T01:21:56.416790Z",
     "iopub.status.busy": "2025-06-14T01:21:56.416693Z",
     "iopub.status.idle": "2025-06-14T01:21:56.643680Z",
     "shell.execute_reply": "2025-06-14T01:21:56.643442Z"
    }
   },
   "outputs": [],
   "source": "# Create impact analysis for all dimensions\nfig, axes = plt.subplots(1, 3, figsize=(18, 6))\n\ndimensions = ['Country × Gender × Age', 'Country × Religion', 'Country × Environment']\ntitles = ['Country × Gender × Age', 'Country × Religion', 'Country × Environment']\n\nfor idx, (dim, title) in enumerate(zip(dimensions, titles)):\n    # Get top deviations\n    deviations = gri.get_top_segments(dim, n=20)\n    \n    # Calculate cumulative improvement\n    current_gri = scorecard[scorecard['dimension'] == title]['gri_score'].values[0]\n    \n    if 'abs_deviation' in deviations.columns:\n        cumulative_impact = (deviations['abs_deviation'] / 2).cumsum()  # TVD contribution\n        improved_gri = current_gri + cumulative_impact\n        \n        # Plot\n        ax = axes[idx]\n        ax.plot(range(1, len(cumulative_impact) + 1), improved_gri, 'b-', linewidth=2)\n        ax.axhline(y=current_gri, color='r', linestyle='--', alpha=0.7, label=f'Current: {current_gri:.3f}')\n        \n        if 'max_possible_score' in scorecard.columns:\n            max_score = scorecard[scorecard['dimension'] == title]['max_possible_score'].values[0]\n            ax.axhline(y=max_score, color='g', linestyle='--', alpha=0.7, label='Max Possible')\n        \n        ax.set_xlabel('Number of Segments Fixed')\n        ax.set_ylabel('GRI Score')\n        ax.set_title(f'Impact Analysis: {title}')\n        ax.set_ylim(0, 1)\n        ax.grid(True, alpha=0.3)\n        ax.legend()\n        \n        # Add annotations for key milestones\n        for target in [0.5, 0.6, 0.7, 0.8]:\n            if improved_gri.max() >= target:\n                segments_needed = (improved_gri >= target).argmax() + 1\n                ax.annotate(f'{target:.1f}', xy=(segments_needed, target), \n                           xytext=(segments_needed + 1, target + 0.02),\n                           arrowprops=dict(arrowstyle='->', alpha=0.5))\n    else:\n        axes[idx].text(0.5, 0.5, 'Data structure not compatible', \n                      ha='center', va='center', transform=axes[idx].transAxes)\n\nplt.tight_layout()\nplt.show()",
   "execution_count": null
  },
  {
   "cell_type": "markdown",
   "metadata": {},
   "source": "## 8. Save Results\n\nSave the complete analysis for reporting and future reference."
  },
  {
   "cell_type": "code",
   "metadata": {
    "execution": {
     "iopub.execute_input": "2025-06-14T01:21:56.644901Z",
     "iopub.status.busy": "2025-06-14T01:21:56.644811Z",
     "iopub.status.idle": "2025-06-14T01:21:56.648935Z",
     "shell.execute_reply": "2025-06-14T01:21:56.648709Z"
    }
   },
   "outputs": [],
   "source": "# Save results\n# Export scorecard in JSON format\ngri.export_results(format='json', filepath='../data/processed/gd3_gri_analysis.json')\n\n# Save scorecard\nscorecard.to_csv('../data/processed/gd3_gri_scorecard.csv', index=False)\n\n# Save top deviations for each dimension\nfor dim, title in zip(['Country × Gender × Age', 'Country × Religion', 'Country × Environment'],\n                     ['age_gender', 'religion', 'environment']):\n    top_devs = gri.get_top_segments(dim, n=20)\n    top_devs.to_csv(f'../data/processed/gd3_top_deviations_{title}.csv', index=False)\n\nprint(\"Results saved:\")\nprint(\"  - gd3_gri_analysis.json (complete results)\")\nprint(\"  - gd3_gri_scorecard.csv (scorecard summary)\")\nprint(\"  - gd3_top_deviations_*.csv (top contributing segments)\")"
  },
  {
   "cell_type": "markdown",
   "metadata": {},
   "source": "## Summary\n\nThis notebook demonstrated the new streamlined GRI analysis workflow:\n\n1. **Simple Initialization**: Just one line to create a GRIAnalysis instance\n2. **Complete Scorecard**: All metrics calculated with `calculate_scorecard()`\n3. **Top Contributing Segments**: Identified which demographics need better representation\n4. **Impact Analysis**: Showed how fixing top deviations would improve scores\n5. **Max Possible Scores**: Revealed theoretical limits given current participants\n\n**Key Insights from the Analysis:**\n- The survey shows moderate representativeness (Average GRI: ~0.43)\n- Country × Religion has the highest GRI score, while Country × Gender × Age needs most improvement\n- Fixing just the top 10-15 demographic segments could significantly improve representativeness\n- The max possible scores show there's room for improvement even with optimal weighting\n\n**Next Steps:**\n- Use insights to guide targeted recruitment for under-represented segments\n- Apply sample weights based on the deviation analysis\n- Compare results across different surveys to track improvement over time"
  }
 ],
 "metadata": {
  "kernelspec": {
   "display_name": "Python 3",
   "language": "python",
   "name": "python3"
  },
  "language_info": {
   "codemirror_mode": {
    "name": "ipython",
    "version": 3
   },
   "file_extension": ".py",
   "mimetype": "text/x-python",
   "name": "python",
   "nbconvert_exporter": "python",
   "pygments_lexer": "ipython3",
   "version": "3.12.2"
  }
 },
 "nbformat": 4,
 "nbformat_minor": 4
}