{
 "cells": [
  {
   "cell_type": "markdown",
   "metadata": {},
   "source": [
    "# 1. Data Preparation for GRI Calculation\n",
    "\n",
    "This notebook demonstrates how to prepare data for Global Representativeness Index (GRI) calculations.\n",
    "\n",
    "## Overview\n",
    "\n",
    "The GRI requires two types of data:\n",
    "1. **Benchmark data**: Global population demographics from UN and Pew Research\n",
    "2. **Survey data**: Participant demographics from your survey\n",
    "\n",
    "## Prerequisites\n",
    "\n",
    "First, ensure you have processed the benchmark data by running:\n",
    "```bash\n",
    "make process-data\n",
    "```\n",
    "\n",
    "This uses the configuration-driven approach to create all benchmark files defined in `config/dimensions.yaml`, including:\n",
    "- All 13 configured dimensions\n",
    "- Regional and continental aggregations\n",
    "- Single-dimension benchmarks\n",
    "\n",
    "The configuration system ensures consistent processing across all dimensions."
   ]
  },
  {
   "cell_type": "code",
   "execution_count": 1,
   "metadata": {
    "execution": {
     "iopub.execute_input": "2025-06-12T05:59:12.172068Z",
     "iopub.status.busy": "2025-06-12T05:59:12.171792Z",
     "iopub.status.idle": "2025-06-12T05:59:12.550038Z",
     "shell.execute_reply": "2025-06-12T05:59:12.546614Z"
    }
   },
   "outputs": [
    {
     "name": "stdout",
     "output_type": "stream",
     "text": [
      "Configuration-driven GRI system initialized\n",
      "Available dimensions: 13\n",
      "\n",
      "Configured dimensions:\n",
      "1. Country × Gender × Age: ['country', 'gender', 'age_group']\n",
      "2. Country × Religion: ['country', 'religion']\n",
      "3. Country × Environment: ['country', 'environment']\n",
      "4. Country: ['country']\n",
      "5. Region × Gender × Age: ['region', 'gender', 'age_group']\n",
      "... and 8 more dimensions\n"
     ]
    }
   ],
   "source": [
    "import pandas as pd\n",
    "import numpy as np\n",
    "import sys\n",
    "import os\n",
    "\n",
    "# Add the gri module to the path\n",
    "sys.path.append('..')\n",
    "from gri.utils import load_data\n",
    "from gri.config import GRIConfig\n",
    "\n",
    "# Set pandas display options\n",
    "pd.set_option('display.max_columns', None)\n",
    "pd.set_option('display.width', None)\n",
    "pd.set_option('display.max_colwidth', 50)\n",
    "\n",
    "# Load configuration to understand available dimensions\n",
    "config = GRIConfig()\n",
    "print(\"Configuration-driven GRI system initialized\")\n",
    "print(f\"Available dimensions: {len(config.get_all_dimensions())}\")\n",
    "\n",
    "# Show the dimensions we'll be working with\n",
    "dimensions = config.get_all_dimensions()\n",
    "print(\"\\nConfigured dimensions:\")\n",
    "for i, dim in enumerate(dimensions[:5], 1):  # Show first 5\n",
    "    print(f\"{i}. {dim['name']}: {dim['columns']}\")\n",
    "if len(dimensions) > 5:\n",
    "    print(f\"... and {len(dimensions) - 5} more dimensions\")"
   ]
  },
  {
   "cell_type": "markdown",
   "metadata": {},
   "source": [
    "## 1. Load Processed Benchmark Data\n",
    "\n",
    "The benchmark data is processed using the configuration system, which creates files for all dimensions defined in `config/dimensions.yaml`. Let's load the core dimensions and explore what's available:"
   ]
  },
  {
   "cell_type": "code",
   "execution_count": 2,
   "metadata": {
    "execution": {
     "iopub.execute_input": "2025-06-12T05:59:12.599582Z",
     "iopub.status.busy": "2025-06-12T05:59:12.599116Z",
     "iopub.status.idle": "2025-06-12T05:59:12.614078Z",
     "shell.execute_reply": "2025-06-12T05:59:12.613395Z"
    }
   },
   "outputs": [
    {
     "name": "stdout",
     "output_type": "stream",
     "text": [
      "Core Benchmark Data Summary:\n",
      "Country × Gender × Age: 2,699 strata\n",
      "Country × Religion: 1,607 strata\n",
      "Country × Environment: 449 strata\n",
      "\n",
      "Single-Dimension Benchmarks:\n",
      "Gender: 2 strata\n",
      "Age Group: 6 strata\n",
      "\n",
      "Proportion sums (should be 1.0):\n",
      "Age/Gender: 1.000000\n",
      "Religion: 1.000000\n",
      "Environment: 1.000000\n",
      "Gender: 1.000000\n",
      "Age Group: 1.000000\n",
      "\n",
      "Configuration system created benchmark files for all 13 configured dimensions!\n"
     ]
    }
   ],
   "source": [
    "# Load processed benchmark data - configuration-driven approach creates all dimensions\n",
    "benchmark_age_gender = load_data('../data/processed/benchmark_country_gender_age.csv')\n",
    "benchmark_religion = load_data('../data/processed/benchmark_country_religion.csv')\n",
    "benchmark_environment = load_data('../data/processed/benchmark_country_environment.csv')\n",
    "\n",
    "# Also show some of the additional dimensions created by configuration system\n",
    "benchmark_gender = load_data('../data/processed/benchmark_gender.csv')\n",
    "benchmark_age_group = load_data('../data/processed/benchmark_age_group.csv')\n",
    "\n",
    "print(\"Core Benchmark Data Summary:\")\n",
    "print(f\"Country × Gender × Age: {len(benchmark_age_gender):,} strata\")\n",
    "print(f\"Country × Religion: {len(benchmark_religion):,} strata\")\n",
    "print(f\"Country × Environment: {len(benchmark_environment):,} strata\")\n",
    "\n",
    "print(\"\\nSingle-Dimension Benchmarks:\")\n",
    "print(f\"Gender: {len(benchmark_gender):,} strata\")\n",
    "print(f\"Age Group: {len(benchmark_age_group):,} strata\")\n",
    "\n",
    "# Verify proportions sum to 1.0\n",
    "print(\"\\nProportion sums (should be 1.0):\")\n",
    "print(f\"Age/Gender: {benchmark_age_gender['population_proportion'].sum():.6f}\")\n",
    "print(f\"Religion: {benchmark_religion['population_proportion'].sum():.6f}\")\n",
    "print(f\"Environment: {benchmark_environment['population_proportion'].sum():.6f}\")\n",
    "print(f\"Gender: {benchmark_gender['population_proportion'].sum():.6f}\")\n",
    "print(f\"Age Group: {benchmark_age_group['population_proportion'].sum():.6f}\")\n",
    "\n",
    "print(f\"\\nConfiguration system created benchmark files for all {len(config.get_all_dimensions())} configured dimensions!\")"
   ]
  },
  {
   "cell_type": "code",
   "execution_count": 3,
   "metadata": {
    "execution": {
     "iopub.execute_input": "2025-06-12T05:59:12.616820Z",
     "iopub.status.busy": "2025-06-12T05:59:12.616607Z",
     "iopub.status.idle": "2025-06-12T05:59:12.623461Z",
     "shell.execute_reply": "2025-06-12T05:59:12.622862Z"
    }
   },
   "outputs": [
    {
     "name": "stdout",
     "output_type": "stream",
     "text": [
      "Country x Gender x Age Benchmark:\n",
      "   country  gender age_group  population_proportion\n",
      "0  Burundi    Male     18-25               0.000219\n",
      "1  Burundi  Female     18-25               0.000219\n",
      "2  Burundi    Male     26-35               0.000147\n",
      "3  Burundi  Female     26-35               0.000149\n",
      "4  Burundi    Male     36-45               0.000120\n",
      "\n",
      "Unique age groups: ['18-25', '26-35', '36-45', '46-55', '56-65', '65+']\n",
      "Unique genders: ['Female', 'Male']\n"
     ]
    }
   ],
   "source": [
    "# Preview benchmark data structures\n",
    "print(\"Country x Gender x Age Benchmark:\")\n",
    "print(benchmark_age_gender.head())\n",
    "print(\"\\nUnique age groups:\", sorted(benchmark_age_gender['age_group'].unique()))\n",
    "print(\"Unique genders:\", sorted(benchmark_age_gender['gender'].unique()))"
   ]
  },
  {
   "cell_type": "code",
   "execution_count": 4,
   "metadata": {
    "execution": {
     "iopub.execute_input": "2025-06-12T05:59:12.626209Z",
     "iopub.status.busy": "2025-06-12T05:59:12.625958Z",
     "iopub.status.idle": "2025-06-12T05:59:12.630951Z",
     "shell.execute_reply": "2025-06-12T05:59:12.630283Z"
    }
   },
   "outputs": [
    {
     "name": "stdout",
     "output_type": "stream",
     "text": [
      "Country x Religion Benchmark:\n",
      "       country      religion  population_proportion\n",
      "0  Afghanistan  Christianity               0.000005\n",
      "1  Afghanistan         Islam               0.004542\n",
      "2  Afghanistan      Hinduism               0.000002\n",
      "3  Afghanistan      Buddhism               0.000002\n",
      "4  Afghanistan       Judaism               0.000002\n",
      "\n",
      "Unique religions: ['Buddhism', 'Christianity', 'Hinduism', 'I do not identify with any religious group or faith', 'Islam', 'Judaism', 'Other religious group']\n"
     ]
    }
   ],
   "source": [
    "print(\"Country x Religion Benchmark:\")\n",
    "print(benchmark_religion.head())\n",
    "print(\"\\nUnique religions:\", sorted(benchmark_religion['religion'].unique()))"
   ]
  },
  {
   "cell_type": "code",
   "execution_count": 5,
   "metadata": {
    "execution": {
     "iopub.execute_input": "2025-06-12T05:59:12.633449Z",
     "iopub.status.busy": "2025-06-12T05:59:12.633186Z",
     "iopub.status.idle": "2025-06-12T05:59:12.638040Z",
     "shell.execute_reply": "2025-06-12T05:59:12.637466Z"
    }
   },
   "outputs": [
    {
     "name": "stdout",
     "output_type": "stream",
     "text": [
      "Country x Environment Benchmark:\n",
      "    country environment  population_proportion\n",
      "0   Burundi       Urban               0.000192\n",
      "1   Burundi       Rural               0.001278\n",
      "2   Comoros       Urban               0.000032\n",
      "3   Comoros       Rural               0.000077\n",
      "4  Djibouti       Urban               0.000099\n",
      "\n",
      "Unique environments: ['Rural', 'Urban']\n"
     ]
    }
   ],
   "source": [
    "print(\"Country x Environment Benchmark:\")\n",
    "print(benchmark_environment.head())\n",
    "print(\"\\nUnique environments:\", sorted(benchmark_environment['environment'].unique()))"
   ]
  },
  {
   "cell_type": "markdown",
   "metadata": {},
   "source": [
    "## 2. Load and Examine Survey Data\n",
    "\n",
    "Now let's load sample survey data from the Global Dialogues project:"
   ]
  },
  {
   "cell_type": "code",
   "execution_count": 6,
   "metadata": {
    "execution": {
     "iopub.execute_input": "2025-06-12T05:59:12.640859Z",
     "iopub.status.busy": "2025-06-12T05:59:12.640632Z",
     "iopub.status.idle": "2025-06-12T05:59:12.688525Z",
     "shell.execute_reply": "2025-06-12T05:59:12.687977Z"
    }
   },
   "outputs": [
    {
     "name": "stdout",
     "output_type": "stream",
     "text": [
      "Raw survey data shape: (600, 234)\n",
      "\n",
      "Column names:\n",
      "0: Unnamed: 0\n",
      "1: Unnamed: 1\n",
      "2: Participant Id\n",
      "3: Sample Provider Id\n",
      "4: Please select your preferred language:\n",
      "5: How old are you?\n",
      "6: What is your gender?\n",
      "7: What best describes where you live?\n",
      "8: Overall, would you say the increased use of artificial intelligence (AI) in daily life makes you feel…\n",
      "9: What religious group or faith do you most identify with?\n"
     ]
    }
   ],
   "source": [
    "# Load Global Dialogues participant data (GD4 as example)\n",
    "survey_path = '../data/raw/survey_data/global-dialogues/Data/GD4/GD4_participants.csv'\n",
    "\n",
    "if os.path.exists(survey_path):\n",
    "    # Load survey data - the file has some formatting issues, so we'll handle them\n",
    "    survey_raw = pd.read_csv(survey_path, skiprows=1)  # Skip the empty first row\n",
    "    \n",
    "    print(f\"Raw survey data shape: {survey_raw.shape}\")\n",
    "    print(\"\\nColumn names:\")\n",
    "    for i, col in enumerate(survey_raw.columns[:10]):  # Show first 10 columns\n",
    "        print(f\"{i}: {col}\")\n",
    "else:\n",
    "    print(f\"Survey file not found at {survey_path}\")\n",
    "    print(\"Note: Global Dialogues data is in a Git submodule.\")\n",
    "    print(\"You may need to initialize the submodule or use your own survey data.\")"
   ]
  },
  {
   "cell_type": "markdown",
   "metadata": {},
   "source": [
    "## 3. Clean and Standardize Survey Data\n",
    "\n",
    "For GRI calculation, we need to map survey demographics to match the benchmark categories:"
   ]
  },
  {
   "cell_type": "code",
   "execution_count": 7,
   "metadata": {
    "execution": {
     "iopub.execute_input": "2025-06-12T05:59:12.691264Z",
     "iopub.status.busy": "2025-06-12T05:59:12.690968Z",
     "iopub.status.idle": "2025-06-12T05:59:12.700831Z",
     "shell.execute_reply": "2025-06-12T05:59:12.700197Z"
    }
   },
   "outputs": [
    {
     "name": "stdout",
     "output_type": "stream",
     "text": [
      "Processing real Global Dialogues data...\n",
      "Real data processing would require specific column mapping\n",
      "Using sample data for this demonstration...\n"
     ]
    }
   ],
   "source": [
    "# Create sample survey data if the real data isn't available\n",
    "if 'survey_raw' not in locals() or survey_raw.empty:\n",
    "    print(\"Creating sample survey data for demonstration...\")\n",
    "    \n",
    "    # Create realistic sample data\n",
    "    np.random.seed(42)\n",
    "    n_participants = 500\n",
    "    \n",
    "    sample_countries = ['United States', 'India', 'Brazil', 'Germany', 'Nigeria', 'Japan']\n",
    "    sample_ages = ['18-25', '26-35', '36-45', '46-55', '56-65', '65+']\n",
    "    sample_genders = ['Male', 'Female']\n",
    "    sample_religions = ['Christianity', 'Islam', 'Hinduism', 'Buddhism', 'Judaism', \n",
    "                       'I do not identify with any religious group or faith', 'Other religious group']\n",
    "    sample_environments = ['Urban', 'Rural']\n",
    "    \n",
    "    survey_data = pd.DataFrame({\n",
    "        'country': np.random.choice(sample_countries, n_participants),\n",
    "        'age_group': np.random.choice(sample_ages, n_participants),\n",
    "        'gender': np.random.choice(sample_genders, n_participants),\n",
    "        'religion': np.random.choice(sample_religions, n_participants),\n",
    "        'environment': np.random.choice(sample_environments, n_participants)\n",
    "    })\n",
    "    \n",
    "    print(f\"Sample survey data created with {len(survey_data)} participants\")\n",
    "    \n",
    "else:\n",
    "    print(\"Processing real Global Dialogues data...\")\n",
    "    \n",
    "    # Extract relevant demographic columns from Global Dialogues data\n",
    "    # Note: Column names may vary - adjust as needed based on actual data structure\n",
    "    survey_data = pd.DataFrame()\n",
    "    \n",
    "    # Map country column (column index varies)\n",
    "    country_col = None\n",
    "    for col in survey_raw.columns:\n",
    "        if 'country' in str(col).lower() or 'region' in str(col).lower():\n",
    "            country_col = col\n",
    "            break\n",
    "    \n",
    "    if country_col:\n",
    "        survey_data['country'] = survey_raw[country_col]\n",
    "    \n",
    "    # Add other demographic mappings as needed...\n",
    "    print(\"Real data processing would require specific column mapping\")\n",
    "    print(\"Using sample data for this demonstration...\")\n",
    "    \n",
    "    # Fall back to sample data for demo\n",
    "    np.random.seed(42)\n",
    "    n_participants = 500\n",
    "    \n",
    "    sample_countries = ['United States', 'India', 'Brazil', 'Germany', 'Nigeria', 'Japan']\n",
    "    sample_ages = ['18-25', '26-35', '36-45', '46-55', '56-65', '65+']\n",
    "    sample_genders = ['Male', 'Female']\n",
    "    sample_religions = ['Christianity', 'Islam', 'Hinduism', 'Buddhism', 'Judaism', \n",
    "                       'I do not identify with any religious group or faith', 'Other religious group']\n",
    "    sample_environments = ['Urban', 'Rural']\n",
    "    \n",
    "    survey_data = pd.DataFrame({\n",
    "        'country': np.random.choice(sample_countries, n_participants),\n",
    "        'age_group': np.random.choice(sample_ages, n_participants),\n",
    "        'gender': np.random.choice(sample_genders, n_participants),\n",
    "        'religion': np.random.choice(sample_religions, n_participants),\n",
    "        'environment': np.random.choice(sample_environments, n_participants)\n",
    "    })"
   ]
  },
  {
   "cell_type": "code",
   "execution_count": 8,
   "metadata": {
    "execution": {
     "iopub.execute_input": "2025-06-12T05:59:12.703577Z",
     "iopub.status.busy": "2025-06-12T05:59:12.703285Z",
     "iopub.status.idle": "2025-06-12T05:59:12.709611Z",
     "shell.execute_reply": "2025-06-12T05:59:12.709078Z"
    }
   },
   "outputs": [
    {
     "name": "stdout",
     "output_type": "stream",
     "text": [
      "Survey Data Summary:\n",
      "Total participants: 500\n",
      "\n",
      "Country distribution:\n",
      "country\n",
      "Germany          97\n",
      "United States    90\n",
      "Japan            86\n",
      "Brazil           77\n",
      "Nigeria          75\n",
      "India            75\n",
      "Name: count, dtype: int64\n",
      "\n",
      "Age group distribution:\n",
      "age_group\n",
      "56-65    97\n",
      "18-25    91\n",
      "26-35    89\n",
      "46-55    77\n",
      "36-45    77\n",
      "65+      69\n",
      "Name: count, dtype: int64\n",
      "\n",
      "Gender distribution:\n",
      "gender\n",
      "Male      259\n",
      "Female    241\n",
      "Name: count, dtype: int64\n"
     ]
    }
   ],
   "source": [
    "# Display survey data summary\n",
    "print(\"Survey Data Summary:\")\n",
    "print(f\"Total participants: {len(survey_data)}\")\n",
    "print(\"\\nCountry distribution:\")\n",
    "print(survey_data['country'].value_counts())\n",
    "\n",
    "print(\"\\nAge group distribution:\")\n",
    "print(survey_data['age_group'].value_counts())\n",
    "\n",
    "print(\"\\nGender distribution:\")\n",
    "print(survey_data['gender'].value_counts())"
   ]
  },
  {
   "cell_type": "markdown",
   "metadata": {},
   "source": [
    "## 4. Data Validation and Alignment\n",
    "\n",
    "Before calculating GRI, we need to ensure the survey categories align with benchmark categories:"
   ]
  },
  {
   "cell_type": "code",
   "execution_count": 9,
   "metadata": {
    "execution": {
     "iopub.execute_input": "2025-06-12T05:59:12.711867Z",
     "iopub.status.busy": "2025-06-12T05:59:12.711664Z",
     "iopub.status.idle": "2025-06-12T05:59:12.717826Z",
     "shell.execute_reply": "2025-06-12T05:59:12.717323Z"
    }
   },
   "outputs": [
    {
     "name": "stdout",
     "output_type": "stream",
     "text": [
      "Age/Gender Category Alignment:\n",
      "\n",
      "country:\n",
      "  Survey categories: 6\n",
      "  Matched with benchmark: 5\n",
      "  Unmatched: {'United States'}\n",
      "\n",
      "gender:\n",
      "  Survey categories: 2\n",
      "  Matched with benchmark: 2\n",
      "\n",
      "age_group:\n",
      "  Survey categories: 6\n",
      "  Matched with benchmark: 6\n"
     ]
    }
   ],
   "source": [
    "# Check alignment between survey and benchmark categories\n",
    "def check_category_alignment(survey_df, benchmark_df, columns):\n",
    "    \"\"\"Check which survey categories are present in benchmark data.\"\"\"\n",
    "    results = {}\n",
    "    \n",
    "    for col in columns:\n",
    "        if col in survey_df.columns and col in benchmark_df.columns:\n",
    "            survey_cats = set(survey_df[col].unique())\n",
    "            benchmark_cats = set(benchmark_df[col].unique())\n",
    "            \n",
    "            matched = survey_cats.intersection(benchmark_cats)\n",
    "            unmatched = survey_cats - benchmark_cats\n",
    "            \n",
    "            results[col] = {\n",
    "                'total_survey': len(survey_cats),\n",
    "                'matched': len(matched),\n",
    "                'unmatched': unmatched\n",
    "            }\n",
    "    \n",
    "    return results\n",
    "\n",
    "# Check age/gender alignment\n",
    "age_gender_alignment = check_category_alignment(\n",
    "    survey_data, benchmark_age_gender, ['country', 'gender', 'age_group']\n",
    ")\n",
    "\n",
    "print(\"Age/Gender Category Alignment:\")\n",
    "for col, stats in age_gender_alignment.items():\n",
    "    print(f\"\\n{col}:\")\n",
    "    print(f\"  Survey categories: {stats['total_survey']}\")\n",
    "    print(f\"  Matched with benchmark: {stats['matched']}\")\n",
    "    if stats['unmatched']:\n",
    "        print(f\"  Unmatched: {stats['unmatched']}\")"
   ]
  },
  {
   "cell_type": "code",
   "execution_count": 10,
   "metadata": {
    "execution": {
     "iopub.execute_input": "2025-06-12T05:59:12.720217Z",
     "iopub.status.busy": "2025-06-12T05:59:12.719907Z",
     "iopub.status.idle": "2025-06-12T05:59:12.724129Z",
     "shell.execute_reply": "2025-06-12T05:59:12.723719Z"
    }
   },
   "outputs": [
    {
     "name": "stdout",
     "output_type": "stream",
     "text": [
      "Religion Category Alignment:\n",
      "\n",
      "country:\n",
      "  Survey categories: 6\n",
      "  Matched with benchmark: 6\n",
      "\n",
      "religion:\n",
      "  Survey categories: 7\n",
      "  Matched with benchmark: 7\n"
     ]
    }
   ],
   "source": [
    "# Check religion alignment\n",
    "religion_alignment = check_category_alignment(\n",
    "    survey_data, benchmark_religion, ['country', 'religion']\n",
    ")\n",
    "\n",
    "print(\"Religion Category Alignment:\")\n",
    "for col, stats in religion_alignment.items():\n",
    "    print(f\"\\n{col}:\")\n",
    "    print(f\"  Survey categories: {stats['total_survey']}\")\n",
    "    print(f\"  Matched with benchmark: {stats['matched']}\")\n",
    "    if stats['unmatched']:\n",
    "        print(f\"  Unmatched: {stats['unmatched']}\")"
   ]
  },
  {
   "cell_type": "code",
   "execution_count": 11,
   "metadata": {
    "execution": {
     "iopub.execute_input": "2025-06-12T05:59:12.726119Z",
     "iopub.status.busy": "2025-06-12T05:59:12.725958Z",
     "iopub.status.idle": "2025-06-12T05:59:12.729942Z",
     "shell.execute_reply": "2025-06-12T05:59:12.729536Z"
    }
   },
   "outputs": [
    {
     "name": "stdout",
     "output_type": "stream",
     "text": [
      "Environment Category Alignment:\n",
      "\n",
      "country:\n",
      "  Survey categories: 6\n",
      "  Matched with benchmark: 5\n",
      "  Unmatched: {'United States'}\n",
      "\n",
      "environment:\n",
      "  Survey categories: 2\n",
      "  Matched with benchmark: 2\n"
     ]
    }
   ],
   "source": [
    "# Check environment alignment\n",
    "environment_alignment = check_category_alignment(\n",
    "    survey_data, benchmark_environment, ['country', 'environment']\n",
    ")\n",
    "\n",
    "print(\"Environment Category Alignment:\")\n",
    "for col, stats in environment_alignment.items():\n",
    "    print(f\"\\n{col}:\")\n",
    "    print(f\"  Survey categories: {stats['total_survey']}\")\n",
    "    print(f\"  Matched with benchmark: {stats['matched']}\")\n",
    "    if stats['unmatched']:\n",
    "        print(f\"  Unmatched: {stats['unmatched']}\")"
   ]
  },
  {
   "cell_type": "markdown",
   "metadata": {},
   "source": [
    "## 5. Country Name Standardization\n",
    "\n",
    "Country names often need to be standardized between survey and benchmark data:"
   ]
  },
  {
   "cell_type": "code",
   "execution_count": 12,
   "metadata": {
    "execution": {
     "iopub.execute_input": "2025-06-12T05:59:12.732153Z",
     "iopub.status.busy": "2025-06-12T05:59:12.731963Z",
     "iopub.status.idle": "2025-06-12T05:59:12.737969Z",
     "shell.execute_reply": "2025-06-12T05:59:12.737585Z"
    }
   },
   "outputs": [
    {
     "name": "stdout",
     "output_type": "stream",
     "text": [
      "Sample benchmark countries:\n",
      "['Afghanistan', 'Albania', 'Algeria', 'American Samoa', 'Andorra', 'Angola', 'Anguilla', 'Antigua and Barbuda', 'Argentina', 'Armenia']\n",
      "\n",
      "Survey countries:\n"
     ]
    },
    {
     "name": "stdout",
     "output_type": "stream",
     "text": [
      "['Brazil', 'Germany', 'India', 'Japan', 'Nigeria', 'United States']\n",
      "\n",
      "After mapping:\n",
      "country\n",
      "Germany                     97\n",
      "United States of America    90\n",
      "Japan                       86\n",
      "Brazil                      77\n",
      "Nigeria                     75\n",
      "India                       75\n",
      "Name: count, dtype: int64\n"
     ]
    }
   ],
   "source": [
    "# Show sample of countries in benchmark vs survey\n",
    "print(\"Sample benchmark countries:\")\n",
    "print(sorted(benchmark_age_gender['country'].unique())[:10])\n",
    "\n",
    "print(\"\\nSurvey countries:\")\n",
    "print(sorted(survey_data['country'].unique()))\n",
    "\n",
    "# Create country mapping if needed\n",
    "country_mapping = {\n",
    "    'United States': 'United States of America',\n",
    "    'Germany': 'Germany',\n",
    "    'Brazil': 'Brazil',\n",
    "    'India': 'India',\n",
    "    'Nigeria': 'Nigeria',\n",
    "    'Japan': 'Japan'\n",
    "}\n",
    "\n",
    "# Apply country mapping\n",
    "survey_data_clean = survey_data.copy()\n",
    "survey_data_clean['country'] = survey_data_clean['country'].map(country_mapping).fillna(survey_data_clean['country'])\n",
    "\n",
    "print(\"\\nAfter mapping:\")\n",
    "print(survey_data_clean['country'].value_counts())"
   ]
  },
  {
   "cell_type": "markdown",
   "metadata": {},
   "source": [
    "## 6. Save Cleaned Survey Data\n",
    "\n",
    "Save the cleaned survey data for use in GRI calculations:"
   ]
  },
  {
   "cell_type": "code",
   "execution_count": 13,
   "metadata": {
    "execution": {
     "iopub.execute_input": "2025-06-12T05:59:12.740186Z",
     "iopub.status.busy": "2025-06-12T05:59:12.739772Z",
     "iopub.status.idle": "2025-06-12T05:59:12.746094Z",
     "shell.execute_reply": "2025-06-12T05:59:12.745582Z"
    }
   },
   "outputs": [
    {
     "name": "stdout",
     "output_type": "stream",
     "text": [
      "Cleaned survey data saved to: data/processed/sample_survey_data.csv\n",
      "Final dataset shape: (500, 5)\n",
      "\n",
      "Data is now ready for GRI calculation!\n"
     ]
    }
   ],
   "source": [
    "# Save cleaned survey data\n",
    "os.makedirs('../data/processed', exist_ok=True)\n",
    "survey_data_clean.to_csv('../data/processed/sample_survey_data.csv', index=False)\n",
    "\n",
    "print(\"Cleaned survey data saved to: data/processed/sample_survey_data.csv\")\n",
    "print(f\"Final dataset shape: {survey_data_clean.shape}\")\n",
    "print(\"\\nData is now ready for GRI calculation!\")"
   ]
  },
  {
   "cell_type": "markdown",
   "metadata": {},
   "source": [
    "## Summary\n",
    "\n",
    "In this notebook, we have:\n",
    "\n",
    "1. ✅ Loaded processed benchmark data for all three GRI dimensions\n",
    "2. ✅ Loaded and examined survey data structure\n",
    "3. ✅ Cleaned and standardized survey demographics\n",
    "4. ✅ Validated category alignment between survey and benchmark\n",
    "5. ✅ Applied country name standardization\n",
    "6. ✅ Saved cleaned data for GRI calculation\n",
    "\n",
    "**Next Steps:**\n",
    "- Proceed to `2-gri-calculation-example.ipynb` to calculate GRI scores\n",
    "- Use `3-advanced-analysis.ipynb` for detailed representativeness analysis\n",
    "\n",
    "**Key Files Created:**\n",
    "- `data/processed/sample_survey_data.csv` - Cleaned survey data ready for GRI calculation"
   ]
  }
 ],
 "metadata": {
  "kernelspec": {
   "display_name": "Python 3",
   "language": "python",
   "name": "python3"
  },
  "language_info": {
   "codemirror_mode": {
    "name": "ipython",
    "version": 3
   },
   "file_extension": ".py",
   "mimetype": "text/x-python",
   "name": "python",
   "nbconvert_exporter": "python",
   "pygments_lexer": "ipython3",
   "version": "3.12.2"
  }
 },
 "nbformat": 4,
 "nbformat_minor": 4
}
