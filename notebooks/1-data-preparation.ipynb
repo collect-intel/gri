{
 "cells": [
  {
   "cell_type": "markdown",
   "metadata": {},
   "source": "# 1. Data Preparation for GRI Calculation\n\nThis notebook demonstrates how to prepare data for Global Representativeness Index (GRI) calculations.\n\n## Overview\n\nThe GRI requires two types of data:\n1. **Benchmark data**: Global population demographics from UN and Pew Research\n2. **Survey data**: Participant demographics from your survey\n\n## Prerequisites\n\nFirst, ensure you have processed the benchmark data by running:\n```bash\nmake process-data\n```\n\nThis uses the configuration-driven approach to create all benchmark files defined in `config/dimensions.yaml`, including:\n- All 13 configured dimensions\n- Regional and continental aggregations\n- Single-dimension benchmarks\n\nThe configuration system ensures consistent processing across all dimensions.",
   "outputs": []
  },
  {
   "cell_type": "code",
   "metadata": {
    "execution": {
     "iopub.execute_input": "2025-06-09T23:56:39.004257Z",
     "iopub.status.busy": "2025-06-09T23:56:39.004176Z",
     "iopub.status.idle": "2025-06-09T23:56:39.150106Z",
     "shell.execute_reply": "2025-06-09T23:56:39.149811Z"
    }
   },
   "outputs": [],
   "source": "import pandas as pd\nimport numpy as np\nimport sys\nimport os\n\n# Add the gri module to the path\nsys.path.append('..')\nfrom gri.utils import load_data\nfrom gri.config import GRIConfig\n\n# Set pandas display options\npd.set_option('display.max_columns', None)\npd.set_option('display.width', None)\npd.set_option('display.max_colwidth', 50)\n\n# Load configuration to understand available dimensions\nconfig = GRIConfig()\nprint(\"Configuration-driven GRI system initialized\")\nprint(f\"Available dimensions: {len(config.get_all_dimensions())}\")\n\n# Show the dimensions we'll be working with\ndimensions = config.get_all_dimensions()\nprint(\"\\nConfigured dimensions:\")\nfor i, dim in enumerate(dimensions[:5], 1):  # Show first 5\n    print(f\"{i}. {dim['name']}: {dim['columns']}\")\nif len(dimensions) > 5:\n    print(f\"... and {len(dimensions) - 5} more dimensions\")"
  },
  {
   "cell_type": "markdown",
   "metadata": {},
   "source": "## 1. Load Processed Benchmark Data\n\nThe benchmark data is processed using the configuration system, which creates files for all dimensions defined in `config/dimensions.yaml`. Let's load the core dimensions and explore what's available:",
   "outputs": []
  },
  {
   "cell_type": "code",
   "metadata": {
    "execution": {
     "iopub.execute_input": "2025-06-09T23:56:39.151490Z",
     "iopub.status.busy": "2025-06-09T23:56:39.151372Z",
     "iopub.status.idle": "2025-06-09T23:56:39.156494Z",
     "shell.execute_reply": "2025-06-09T23:56:39.156284Z"
    }
   },
   "outputs": [],
   "source": "# Load processed benchmark data - configuration-driven approach creates all dimensions\nbenchmark_age_gender = load_data('../data/processed/benchmark_country_gender_age.csv')\nbenchmark_religion = load_data('../data/processed/benchmark_country_religion.csv')\nbenchmark_environment = load_data('../data/processed/benchmark_country_environment.csv')\n\n# Also show some of the additional dimensions created by configuration system\nbenchmark_gender = load_data('../data/processed/benchmark_gender.csv')\nbenchmark_age_group = load_data('../data/processed/benchmark_age_group.csv')\n\nprint(\"Core Benchmark Data Summary:\")\nprint(f\"Country × Gender × Age: {len(benchmark_age_gender):,} strata\")\nprint(f\"Country × Religion: {len(benchmark_religion):,} strata\")\nprint(f\"Country × Environment: {len(benchmark_environment):,} strata\")\n\nprint(\"\\nSingle-Dimension Benchmarks:\")\nprint(f\"Gender: {len(benchmark_gender):,} strata\")\nprint(f\"Age Group: {len(benchmark_age_group):,} strata\")\n\n# Verify proportions sum to 1.0\nprint(\"\\nProportion sums (should be 1.0):\")\nprint(f\"Age/Gender: {benchmark_age_gender['population_proportion'].sum():.6f}\")\nprint(f\"Religion: {benchmark_religion['population_proportion'].sum():.6f}\")\nprint(f\"Environment: {benchmark_environment['population_proportion'].sum():.6f}\")\nprint(f\"Gender: {benchmark_gender['population_proportion'].sum():.6f}\")\nprint(f\"Age Group: {benchmark_age_group['population_proportion'].sum():.6f}\")\n\nprint(f\"\\nConfiguration system created benchmark files for all {len(config.get_all_dimensions())} configured dimensions!\")"
  },
  {
   "cell_type": "code",
   "execution_count": 3,
   "metadata": {
    "execution": {
     "iopub.execute_input": "2025-06-09T23:56:39.171043Z",
     "iopub.status.busy": "2025-06-09T23:56:39.170937Z",
     "iopub.status.idle": "2025-06-09T23:56:39.174170Z",
     "shell.execute_reply": "2025-06-09T23:56:39.173951Z"
    }
   },
   "outputs": [
    {
     "name": "stdout",
     "output_type": "stream",
     "text": [
      "Country x Gender x Age Benchmark:\n",
      "   country  gender age_group  population_proportion\n",
      "0  Burundi    Male     18-25               0.000219\n",
      "1  Burundi  Female     18-25               0.000219\n",
      "2  Burundi    Male     26-35               0.000147\n",
      "3  Burundi  Female     26-35               0.000149\n",
      "4  Burundi    Male     36-45               0.000120\n",
      "\n",
      "Unique age groups: ['18-25', '26-35', '36-45', '46-55', '56-65', '65+']\n",
      "Unique genders: ['Female', 'Male']\n"
     ]
    }
   ],
   "source": [
    "# Preview benchmark data structures\n",
    "print(\"Country x Gender x Age Benchmark:\")\n",
    "print(benchmark_age_gender.head())\n",
    "print(\"\\nUnique age groups:\", sorted(benchmark_age_gender['age_group'].unique()))\n",
    "print(\"Unique genders:\", sorted(benchmark_age_gender['gender'].unique()))"
   ]
  },
  {
   "cell_type": "code",
   "execution_count": 4,
   "metadata": {
    "execution": {
     "iopub.execute_input": "2025-06-09T23:56:39.175151Z",
     "iopub.status.busy": "2025-06-09T23:56:39.175085Z",
     "iopub.status.idle": "2025-06-09T23:56:39.177194Z",
     "shell.execute_reply": "2025-06-09T23:56:39.176975Z"
    }
   },
   "outputs": [
    {
     "name": "stdout",
     "output_type": "stream",
     "text": [
      "Country x Religion Benchmark:\n",
      "       country      religion  population_proportion\n",
      "0  Afghanistan  Christianity           1.543859e-06\n",
      "1  Afghanistan         Islam           1.539228e-03\n",
      "2  Afghanistan      Hinduism           7.719297e-07\n",
      "3  Afghanistan      Buddhism           7.719297e-07\n",
      "4  Afghanistan       Judaism           7.719297e-07\n",
      "\n",
      "Unique religions: ['Buddhism', 'Christianity', 'Hinduism', 'I do not identify with any religious group or faith', 'Islam', 'Judaism', 'Other religious group']\n"
     ]
    }
   ],
   "source": [
    "print(\"Country x Religion Benchmark:\")\n",
    "print(benchmark_religion.head())\n",
    "print(\"\\nUnique religions:\", sorted(benchmark_religion['religion'].unique()))"
   ]
  },
  {
   "cell_type": "code",
   "execution_count": 5,
   "metadata": {
    "execution": {
     "iopub.execute_input": "2025-06-09T23:56:39.178041Z",
     "iopub.status.busy": "2025-06-09T23:56:39.177986Z",
     "iopub.status.idle": "2025-06-09T23:56:39.179931Z",
     "shell.execute_reply": "2025-06-09T23:56:39.179729Z"
    }
   },
   "outputs": [
    {
     "name": "stdout",
     "output_type": "stream",
     "text": [
      "Country x Environment Benchmark:\n",
      "              country environment  population_proportion\n",
      "0  Sub-Saharan Africa       Urban               0.016595\n",
      "1  Sub-Saharan Africa       Rural               0.024510\n",
      "2              AFRICA       Urban               0.021434\n",
      "3              AFRICA       Rural               0.028977\n",
      "4      Eastern Africa       Urban               0.004749\n",
      "\n",
      "Unique environments: ['Rural', 'Urban']\n"
     ]
    }
   ],
   "source": [
    "print(\"Country x Environment Benchmark:\")\n",
    "print(benchmark_environment.head())\n",
    "print(\"\\nUnique environments:\", sorted(benchmark_environment['environment'].unique()))"
   ]
  },
  {
   "cell_type": "markdown",
   "metadata": {},
   "source": [
    "## 2. Load and Examine Survey Data\n",
    "\n",
    "Now let's load sample survey data from the Global Dialogues project:"
   ]
  },
  {
   "cell_type": "code",
   "execution_count": 6,
   "metadata": {
    "execution": {
     "iopub.execute_input": "2025-06-09T23:56:39.180985Z",
     "iopub.status.busy": "2025-06-09T23:56:39.180906Z",
     "iopub.status.idle": "2025-06-09T23:56:39.199627Z",
     "shell.execute_reply": "2025-06-09T23:56:39.199433Z"
    }
   },
   "outputs": [
    {
     "name": "stdout",
     "output_type": "stream",
     "text": [
      "Raw survey data shape: (600, 234)\n",
      "\n",
      "Column names:\n",
      "0: Unnamed: 0\n",
      "1: Unnamed: 1\n",
      "2: Participant Id\n",
      "3: Sample Provider Id\n",
      "4: Please select your preferred language:\n",
      "5: How old are you?\n",
      "6: What is your gender?\n",
      "7: What best describes where you live?\n",
      "8: Overall, would you say the increased use of artificial intelligence (AI) in daily life makes you feel…\n",
      "9: What religious group or faith do you most identify with?\n"
     ]
    }
   ],
   "source": [
    "# Load Global Dialogues participant data (GD4 as example)\n",
    "survey_path = '../data/raw/survey_data/global-dialogues/Data/GD4/GD4_participants.csv'\n",
    "\n",
    "if os.path.exists(survey_path):\n",
    "    # Load survey data - the file has some formatting issues, so we'll handle them\n",
    "    survey_raw = pd.read_csv(survey_path, skiprows=1)  # Skip the empty first row\n",
    "    \n",
    "    print(f\"Raw survey data shape: {survey_raw.shape}\")\n",
    "    print(\"\\nColumn names:\")\n",
    "    for i, col in enumerate(survey_raw.columns[:10]):  # Show first 10 columns\n",
    "        print(f\"{i}: {col}\")\n",
    "else:\n",
    "    print(f\"Survey file not found at {survey_path}\")\n",
    "    print(\"Note: Global Dialogues data is in a Git submodule.\")\n",
    "    print(\"You may need to initialize the submodule or use your own survey data.\")"
   ]
  },
  {
   "cell_type": "markdown",
   "metadata": {},
   "source": [
    "## 3. Clean and Standardize Survey Data\n",
    "\n",
    "For GRI calculation, we need to map survey demographics to match the benchmark categories:"
   ]
  },
  {
   "cell_type": "code",
   "execution_count": 7,
   "metadata": {
    "execution": {
     "iopub.execute_input": "2025-06-09T23:56:39.200631Z",
     "iopub.status.busy": "2025-06-09T23:56:39.200572Z",
     "iopub.status.idle": "2025-06-09T23:56:39.204547Z",
     "shell.execute_reply": "2025-06-09T23:56:39.204342Z"
    }
   },
   "outputs": [
    {
     "name": "stdout",
     "output_type": "stream",
     "text": [
      "Processing real Global Dialogues data...\n",
      "Real data processing would require specific column mapping\n",
      "Using sample data for this demonstration...\n"
     ]
    }
   ],
   "source": [
    "# Create sample survey data if the real data isn't available\n",
    "if 'survey_raw' not in locals() or survey_raw.empty:\n",
    "    print(\"Creating sample survey data for demonstration...\")\n",
    "    \n",
    "    # Create realistic sample data\n",
    "    np.random.seed(42)\n",
    "    n_participants = 500\n",
    "    \n",
    "    sample_countries = ['United States', 'India', 'Brazil', 'Germany', 'Nigeria', 'Japan']\n",
    "    sample_ages = ['18-25', '26-35', '36-45', '46-55', '56-65', '65+']\n",
    "    sample_genders = ['Male', 'Female']\n",
    "    sample_religions = ['Christianity', 'Islam', 'Hinduism', 'Buddhism', 'Judaism', \n",
    "                       'I do not identify with any religious group or faith', 'Other religious group']\n",
    "    sample_environments = ['Urban', 'Rural']\n",
    "    \n",
    "    survey_data = pd.DataFrame({\n",
    "        'country': np.random.choice(sample_countries, n_participants),\n",
    "        'age_group': np.random.choice(sample_ages, n_participants),\n",
    "        'gender': np.random.choice(sample_genders, n_participants),\n",
    "        'religion': np.random.choice(sample_religions, n_participants),\n",
    "        'environment': np.random.choice(sample_environments, n_participants)\n",
    "    })\n",
    "    \n",
    "    print(f\"Sample survey data created with {len(survey_data)} participants\")\n",
    "    \n",
    "else:\n",
    "    print(\"Processing real Global Dialogues data...\")\n",
    "    \n",
    "    # Extract relevant demographic columns from Global Dialogues data\n",
    "    # Note: Column names may vary - adjust as needed based on actual data structure\n",
    "    survey_data = pd.DataFrame()\n",
    "    \n",
    "    # Map country column (column index varies)\n",
    "    country_col = None\n",
    "    for col in survey_raw.columns:\n",
    "        if 'country' in str(col).lower() or 'region' in str(col).lower():\n",
    "            country_col = col\n",
    "            break\n",
    "    \n",
    "    if country_col:\n",
    "        survey_data['country'] = survey_raw[country_col]\n",
    "    \n",
    "    # Add other demographic mappings as needed...\n",
    "    print(\"Real data processing would require specific column mapping\")\n",
    "    print(\"Using sample data for this demonstration...\")\n",
    "    \n",
    "    # Fall back to sample data for demo\n",
    "    np.random.seed(42)\n",
    "    n_participants = 500\n",
    "    \n",
    "    sample_countries = ['United States', 'India', 'Brazil', 'Germany', 'Nigeria', 'Japan']\n",
    "    sample_ages = ['18-25', '26-35', '36-45', '46-55', '56-65', '65+']\n",
    "    sample_genders = ['Male', 'Female']\n",
    "    sample_religions = ['Christianity', 'Islam', 'Hinduism', 'Buddhism', 'Judaism', \n",
    "                       'I do not identify with any religious group or faith', 'Other religious group']\n",
    "    sample_environments = ['Urban', 'Rural']\n",
    "    \n",
    "    survey_data = pd.DataFrame({\n",
    "        'country': np.random.choice(sample_countries, n_participants),\n",
    "        'age_group': np.random.choice(sample_ages, n_participants),\n",
    "        'gender': np.random.choice(sample_genders, n_participants),\n",
    "        'religion': np.random.choice(sample_religions, n_participants),\n",
    "        'environment': np.random.choice(sample_environments, n_participants)\n",
    "    })"
   ]
  },
  {
   "cell_type": "code",
   "execution_count": 8,
   "metadata": {
    "execution": {
     "iopub.execute_input": "2025-06-09T23:56:39.205500Z",
     "iopub.status.busy": "2025-06-09T23:56:39.205427Z",
     "iopub.status.idle": "2025-06-09T23:56:39.207756Z",
     "shell.execute_reply": "2025-06-09T23:56:39.207572Z"
    }
   },
   "outputs": [
    {
     "name": "stdout",
     "output_type": "stream",
     "text": [
      "Survey Data Summary:\n",
      "Total participants: 500\n",
      "\n",
      "Country distribution:\n",
      "country\n",
      "Germany          97\n",
      "United States    90\n",
      "Japan            86\n",
      "Brazil           77\n",
      "Nigeria          75\n",
      "India            75\n",
      "Name: count, dtype: int64\n",
      "\n",
      "Age group distribution:\n",
      "age_group\n",
      "56-65    97\n",
      "18-25    91\n",
      "26-35    89\n",
      "46-55    77\n",
      "36-45    77\n",
      "65+      69\n",
      "Name: count, dtype: int64\n",
      "\n",
      "Gender distribution:\n",
      "gender\n",
      "Male      259\n",
      "Female    241\n",
      "Name: count, dtype: int64\n"
     ]
    }
   ],
   "source": [
    "# Display survey data summary\n",
    "print(\"Survey Data Summary:\")\n",
    "print(f\"Total participants: {len(survey_data)}\")\n",
    "print(\"\\nCountry distribution:\")\n",
    "print(survey_data['country'].value_counts())\n",
    "\n",
    "print(\"\\nAge group distribution:\")\n",
    "print(survey_data['age_group'].value_counts())\n",
    "\n",
    "print(\"\\nGender distribution:\")\n",
    "print(survey_data['gender'].value_counts())"
   ]
  },
  {
   "cell_type": "markdown",
   "metadata": {},
   "source": [
    "## 4. Data Validation and Alignment\n",
    "\n",
    "Before calculating GRI, we need to ensure the survey categories align with benchmark categories:"
   ]
  },
  {
   "cell_type": "code",
   "execution_count": 9,
   "metadata": {
    "execution": {
     "iopub.execute_input": "2025-06-09T23:56:39.208719Z",
     "iopub.status.busy": "2025-06-09T23:56:39.208638Z",
     "iopub.status.idle": "2025-06-09T23:56:39.211334Z",
     "shell.execute_reply": "2025-06-09T23:56:39.211157Z"
    }
   },
   "outputs": [
    {
     "name": "stdout",
     "output_type": "stream",
     "text": [
      "Age/Gender Category Alignment:\n",
      "\n",
      "country:\n",
      "  Survey categories: 6\n",
      "  Matched with benchmark: 5\n",
      "  Unmatched: {'United States'}\n",
      "\n",
      "gender:\n",
      "  Survey categories: 2\n",
      "  Matched with benchmark: 2\n",
      "\n",
      "age_group:\n",
      "  Survey categories: 6\n",
      "  Matched with benchmark: 6\n"
     ]
    }
   ],
   "source": [
    "# Check alignment between survey and benchmark categories\n",
    "def check_category_alignment(survey_df, benchmark_df, columns):\n",
    "    \"\"\"Check which survey categories are present in benchmark data.\"\"\"\n",
    "    results = {}\n",
    "    \n",
    "    for col in columns:\n",
    "        if col in survey_df.columns and col in benchmark_df.columns:\n",
    "            survey_cats = set(survey_df[col].unique())\n",
    "            benchmark_cats = set(benchmark_df[col].unique())\n",
    "            \n",
    "            matched = survey_cats.intersection(benchmark_cats)\n",
    "            unmatched = survey_cats - benchmark_cats\n",
    "            \n",
    "            results[col] = {\n",
    "                'total_survey': len(survey_cats),\n",
    "                'matched': len(matched),\n",
    "                'unmatched': unmatched\n",
    "            }\n",
    "    \n",
    "    return results\n",
    "\n",
    "# Check age/gender alignment\n",
    "age_gender_alignment = check_category_alignment(\n",
    "    survey_data, benchmark_age_gender, ['country', 'gender', 'age_group']\n",
    ")\n",
    "\n",
    "print(\"Age/Gender Category Alignment:\")\n",
    "for col, stats in age_gender_alignment.items():\n",
    "    print(f\"\\n{col}:\")\n",
    "    print(f\"  Survey categories: {stats['total_survey']}\")\n",
    "    print(f\"  Matched with benchmark: {stats['matched']}\")\n",
    "    if stats['unmatched']:\n",
    "        print(f\"  Unmatched: {stats['unmatched']}\")"
   ]
  },
  {
   "cell_type": "code",
   "execution_count": 10,
   "metadata": {
    "execution": {
     "iopub.execute_input": "2025-06-09T23:56:39.212253Z",
     "iopub.status.busy": "2025-06-09T23:56:39.212181Z",
     "iopub.status.idle": "2025-06-09T23:56:39.214258Z",
     "shell.execute_reply": "2025-06-09T23:56:39.214078Z"
    }
   },
   "outputs": [
    {
     "name": "stdout",
     "output_type": "stream",
     "text": [
      "Religion Category Alignment:\n",
      "\n",
      "country:\n",
      "  Survey categories: 6\n",
      "  Matched with benchmark: 6\n",
      "\n",
      "religion:\n",
      "  Survey categories: 7\n",
      "  Matched with benchmark: 7\n"
     ]
    }
   ],
   "source": [
    "# Check religion alignment\n",
    "religion_alignment = check_category_alignment(\n",
    "    survey_data, benchmark_religion, ['country', 'religion']\n",
    ")\n",
    "\n",
    "print(\"Religion Category Alignment:\")\n",
    "for col, stats in religion_alignment.items():\n",
    "    print(f\"\\n{col}:\")\n",
    "    print(f\"  Survey categories: {stats['total_survey']}\")\n",
    "    print(f\"  Matched with benchmark: {stats['matched']}\")\n",
    "    if stats['unmatched']:\n",
    "        print(f\"  Unmatched: {stats['unmatched']}\")"
   ]
  },
  {
   "cell_type": "code",
   "execution_count": 11,
   "metadata": {
    "execution": {
     "iopub.execute_input": "2025-06-09T23:56:39.215149Z",
     "iopub.status.busy": "2025-06-09T23:56:39.215092Z",
     "iopub.status.idle": "2025-06-09T23:56:39.217064Z",
     "shell.execute_reply": "2025-06-09T23:56:39.216876Z"
    }
   },
   "outputs": [
    {
     "name": "stdout",
     "output_type": "stream",
     "text": [
      "Environment Category Alignment:\n",
      "\n",
      "country:\n",
      "  Survey categories: 6\n",
      "  Matched with benchmark: 5\n",
      "  Unmatched: {'United States'}\n",
      "\n",
      "environment:\n",
      "  Survey categories: 2\n",
      "  Matched with benchmark: 2\n"
     ]
    }
   ],
   "source": [
    "# Check environment alignment\n",
    "environment_alignment = check_category_alignment(\n",
    "    survey_data, benchmark_environment, ['country', 'environment']\n",
    ")\n",
    "\n",
    "print(\"Environment Category Alignment:\")\n",
    "for col, stats in environment_alignment.items():\n",
    "    print(f\"\\n{col}:\")\n",
    "    print(f\"  Survey categories: {stats['total_survey']}\")\n",
    "    print(f\"  Matched with benchmark: {stats['matched']}\")\n",
    "    if stats['unmatched']:\n",
    "        print(f\"  Unmatched: {stats['unmatched']}\")"
   ]
  },
  {
   "cell_type": "markdown",
   "metadata": {},
   "source": [
    "## 5. Country Name Standardization\n",
    "\n",
    "Country names often need to be standardized between survey and benchmark data:"
   ]
  },
  {
   "cell_type": "code",
   "execution_count": 12,
   "metadata": {
    "execution": {
     "iopub.execute_input": "2025-06-09T23:56:39.218028Z",
     "iopub.status.busy": "2025-06-09T23:56:39.217968Z",
     "iopub.status.idle": "2025-06-09T23:56:39.220729Z",
     "shell.execute_reply": "2025-06-09T23:56:39.220522Z"
    }
   },
   "outputs": [
    {
     "name": "stdout",
     "output_type": "stream",
     "text": [
      "Sample benchmark countries:\n",
      "['Afghanistan', 'Albania', 'Algeria', 'American Samoa', 'Andorra', 'Angola', 'Anguilla', 'Antigua and Barbuda', 'Argentina', 'Armenia']\n",
      "\n",
      "Survey countries:\n",
      "['Brazil', 'Germany', 'India', 'Japan', 'Nigeria', 'United States']\n",
      "\n",
      "After mapping:\n",
      "country\n",
      "Germany                     97\n",
      "United States of America    90\n",
      "Japan                       86\n",
      "Brazil                      77\n",
      "Nigeria                     75\n",
      "India                       75\n",
      "Name: count, dtype: int64\n"
     ]
    }
   ],
   "source": [
    "# Show sample of countries in benchmark vs survey\n",
    "print(\"Sample benchmark countries:\")\n",
    "print(sorted(benchmark_age_gender['country'].unique())[:10])\n",
    "\n",
    "print(\"\\nSurvey countries:\")\n",
    "print(sorted(survey_data['country'].unique()))\n",
    "\n",
    "# Create country mapping if needed\n",
    "country_mapping = {\n",
    "    'United States': 'United States of America',\n",
    "    'Germany': 'Germany',\n",
    "    'Brazil': 'Brazil',\n",
    "    'India': 'India',\n",
    "    'Nigeria': 'Nigeria',\n",
    "    'Japan': 'Japan'\n",
    "}\n",
    "\n",
    "# Apply country mapping\n",
    "survey_data_clean = survey_data.copy()\n",
    "survey_data_clean['country'] = survey_data_clean['country'].map(country_mapping).fillna(survey_data_clean['country'])\n",
    "\n",
    "print(\"\\nAfter mapping:\")\n",
    "print(survey_data_clean['country'].value_counts())"
   ]
  },
  {
   "cell_type": "markdown",
   "metadata": {},
   "source": [
    "## 6. Save Cleaned Survey Data\n",
    "\n",
    "Save the cleaned survey data for use in GRI calculations:"
   ]
  },
  {
   "cell_type": "code",
   "execution_count": 13,
   "metadata": {
    "execution": {
     "iopub.execute_input": "2025-06-09T23:56:39.221701Z",
     "iopub.status.busy": "2025-06-09T23:56:39.221647Z",
     "iopub.status.idle": "2025-06-09T23:56:39.225627Z",
     "shell.execute_reply": "2025-06-09T23:56:39.225431Z"
    }
   },
   "outputs": [
    {
     "name": "stdout",
     "output_type": "stream",
     "text": [
      "Cleaned survey data saved to: data/processed/sample_survey_data.csv\n",
      "Final dataset shape: (500, 5)\n",
      "\n",
      "Data is now ready for GRI calculation!\n"
     ]
    }
   ],
   "source": [
    "# Save cleaned survey data\n",
    "os.makedirs('../data/processed', exist_ok=True)\n",
    "survey_data_clean.to_csv('../data/processed/sample_survey_data.csv', index=False)\n",
    "\n",
    "print(\"Cleaned survey data saved to: data/processed/sample_survey_data.csv\")\n",
    "print(f\"Final dataset shape: {survey_data_clean.shape}\")\n",
    "print(\"\\nData is now ready for GRI calculation!\")"
   ]
  },
  {
   "cell_type": "markdown",
   "metadata": {},
   "source": [
    "## Summary\n",
    "\n",
    "In this notebook, we have:\n",
    "\n",
    "1. ✅ Loaded processed benchmark data for all three GRI dimensions\n",
    "2. ✅ Loaded and examined survey data structure\n",
    "3. ✅ Cleaned and standardized survey demographics\n",
    "4. ✅ Validated category alignment between survey and benchmark\n",
    "5. ✅ Applied country name standardization\n",
    "6. ✅ Saved cleaned data for GRI calculation\n",
    "\n",
    "**Next Steps:**\n",
    "- Proceed to `2-gri-calculation-example.ipynb` to calculate GRI scores\n",
    "- Use `3-advanced-analysis.ipynb` for detailed representativeness analysis\n",
    "\n",
    "**Key Files Created:**\n",
    "- `data/processed/sample_survey_data.csv` - Cleaned survey data ready for GRI calculation"
   ]
  }
 ],
 "metadata": {
  "kernelspec": {
   "display_name": "Python 3",
   "language": "python",
   "name": "python3"
  },
  "language_info": {
   "codemirror_mode": {
    "name": "ipython",
    "version": 3
   },
   "file_extension": ".py",
   "mimetype": "text/x-python",
   "name": "python",
   "nbconvert_exporter": "python",
   "pygments_lexer": "ipython3",
   "version": "3.12.2"
  }
 },
 "nbformat": 4,
 "nbformat_minor": 4
}