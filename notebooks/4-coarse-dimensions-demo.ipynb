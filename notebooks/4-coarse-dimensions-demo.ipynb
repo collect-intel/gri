{
 "cells": [
  {
   "cell_type": "markdown",
   "metadata": {},
   "source": [
    "# 4. Coarse Dimensions Demonstration\n",
    "\n",
    "This notebook demonstrates the expanded GRI scorecard with coarser-grained dimensions for broader representativeness analysis.\n",
    "\n",
    "## Overview\n",
    "\n",
    "The **expanded GRI scorecard** now includes both fine-grained and coarse-grained dimensions:\n",
    "\n",
    "### Fine-grained (Original)\n",
    "- Country × Gender × Age\n",
    "- Country × Religion  \n",
    "- Country × Environment\n",
    "\n",
    "### Coarse-grained (New)\n",
    "- **Country**: Country-level representativeness\n",
    "- **Region**: Regional representativeness (UN M49 regions)\n",
    "- **Continent**: Continental representativeness\n",
    "- **Gender**: Global gender representativeness\n",
    "- **Age Group**: Global age representativeness\n",
    "- **Religion**: Global religious representativeness\n",
    "- **Environment**: Global urban/rural representativeness\n",
    "\n",
    "**Why coarser dimensions matter:**\n",
    "- Provide different perspectives on representativeness\n",
    "- Help identify geographic vs. demographic imbalances\n",
    "- Useful for different analysis goals and reporting needs"
   ]
  },
  {
   "cell_type": "code",
   "metadata": {
    "execution": {
     "iopub.execute_input": "2025-06-13T07:18:39.121680Z",
     "iopub.status.busy": "2025-06-13T07:18:39.121464Z",
     "iopub.status.idle": "2025-06-13T07:18:40.057501Z",
     "shell.execute_reply": "2025-06-13T07:18:40.056717Z"
    }
   },
   "outputs": [],
   "source": "import pandas as pd\nimport numpy as np\nimport matplotlib.pyplot as plt\nimport seaborn as sns\n\n# Import the new GRI module\nimport sys\nsys.path.append('..')\nfrom gri import GRIAnalysis\n\n# Set plotting style\nplt.style.use('default')\nsns.set_palette('husl')\npd.set_option('display.max_columns', None)"
  },
  {
   "cell_type": "markdown",
   "source": "## 1. Create Sample Data with Geographic Diversity",
   "metadata": {}
  },
  {
   "cell_type": "code",
   "metadata": {},
   "source": "# Create comprehensive sample data with geographic diversity\nnp.random.seed(42)\nn_participants = 1000\n\n# Include diverse countries from different regions and continents\ncountries = [\n    'United States', 'Canada',                # North America\n    'Brazil', 'Argentina',                    # South America  \n    'Germany', 'France', 'Spain', 'Poland',   # Europe\n    'Nigeria', 'South Africa', 'Egypt',       # Africa\n    'India', 'China', 'Japan', 'Indonesia',   # Asia\n    'Australia'                               # Oceania\n]\n\n# Create sample survey data\nsample_survey = pd.DataFrame({\n    'country': np.random.choice(countries, n_participants, \n                               p=[0.15, 0.05, 0.10, 0.05, 0.08, 0.07, 0.06, 0.04,\n                                  0.08, 0.07, 0.05, 0.10, 0.05, 0.03, 0.01, 0.01]),\n    'gender': np.random.choice(['Male', 'Female'], n_participants, p=[0.52, 0.48]), \n    'age_group': np.random.choice([\n        '18-25', '26-35', '36-45', '46-55', '56-65', '65+'\n    ], n_participants, p=[0.20, 0.25, 0.20, 0.15, 0.12, 0.08]),\n    'religion': np.random.choice([\n        'Christianity', 'Islam', 'Hinduism', 'Buddhism', \n        'Judaism', 'I do not identify with any religious group or faith',\n        'Other religious group'\n    ], n_participants, p=[0.30, 0.20, 0.15, 0.10, 0.02, 0.18, 0.05]),\n    'environment': np.random.choice(['Urban', 'Rural'], n_participants, p=[0.55, 0.45])\n})\n\nprint(f\"Sample survey: {len(sample_survey):,} participants from {sample_survey['country'].nunique()} countries\")\nprint(\"\\nGeographic distribution:\")\nprint(sample_survey['country'].value_counts().head(10))",
   "outputs": []
  },
  {
   "cell_type": "markdown",
   "source": "## 2. Initialize GRI Analysis and Calculate Multiple Dimension Granularities",
   "metadata": {}
  },
  {
   "cell_type": "code",
   "metadata": {},
   "source": "# Initialize GRI analysis\nanalysis = GRIAnalysis(\n    sample_survey,\n    survey_source='global_dialogues',\n    benchmark_dir='../data/processed'\n)\n\n# Calculate scorecard with different dimension granularities\nprint(\"Calculating GRI scores for different dimension granularities...\")\nprint(\"=\" * 60)\n\n# Define dimensions from fine to coarse\ndimension_sets = {\n    'Fine-grained': ['Country × Gender × Age', 'Country × Religion', 'Country × Environment'],\n    'Regional': ['Region', 'Region × Gender × Age', 'Region × Religion', 'Region × Environment'],\n    'Continental': ['Continent'],\n    'Global Demographics': ['Gender', 'Age Group', 'Religion', 'Environment'],\n    'Geographic Only': ['Country', 'Region', 'Continent']\n}\n\n# Calculate and display each set\nall_results = []\nfor granularity, dimensions in dimension_sets.items():\n    print(f\"\\n{granularity}:\")\n    scorecard = analysis.calculate_scorecard(dimensions=dimensions)\n    \n    for _, row in scorecard.iterrows():\n        if row['Dimension'] != 'AVERAGE':\n            print(f\"  • {row['Dimension']:.<35} GRI: {row['GRI Score']:.3f}, Diversity: {row['Diversity Score']:.3f}\")\n            all_results.append({\n                'Granularity': granularity,\n                'Dimension': row['Dimension'],\n                'GRI Score': row['GRI Score'],\n                'Diversity Score': row['Diversity Score']\n            })\n\nresults_df = pd.DataFrame(all_results)",
   "outputs": []
  },
  {
   "cell_type": "markdown",
   "source": "## 3. Demonstrate Geographic Mapping Capabilities",
   "metadata": {}
  },
  {
   "cell_type": "code",
   "metadata": {
    "execution": {
     "iopub.execute_input": "2025-06-13T07:18:40.133365Z",
     "iopub.status.busy": "2025-06-13T07:18:40.133201Z",
     "iopub.status.idle": "2025-06-13T07:18:40.257799Z",
     "shell.execute_reply": "2025-06-13T07:18:40.256984Z"
    }
   },
   "outputs": [],
   "source": "# Show how the module handles geographic mappings\nprint(\"GEOGRAPHIC MAPPING DEMONSTRATION\")\nprint(\"=\" * 60)\n\n# Display sample with geographic mappings\nsample_with_geo = analysis.data.copy()\nprint(\"\\nSample data with geographic mappings (first 10 rows):\")\nprint(sample_with_geo[['country', 'region', 'continent']].head(10))\n\n# Show geographic aggregation\nprint(\"\\n\\nGeographic distribution at different levels:\")\nprint(\"\\nBy Continent:\")\nprint(sample_with_geo['continent'].value_counts())\nprint(\"\\nBy Region (top 5):\")\nprint(sample_with_geo['region'].value_counts().head())\n\n# Compare scores at different geographic levels\ngeo_comparison = analysis.calculate_scorecard(dimensions=['Country', 'Region', 'Continent'])\nprint(\"\\n\\nGeographic Representativeness Comparison:\")\nprint(geo_comparison[geo_comparison['Dimension'] != 'AVERAGE'][['Dimension', 'GRI Score', 'Diversity Score']])"
  },
  {
   "cell_type": "markdown",
   "source": "## 4. Visualize Dimension Comparisons Using Module Capabilities",
   "metadata": {}
  },
  {
   "cell_type": "code",
   "metadata": {
    "execution": {
     "iopub.execute_input": "2025-06-13T07:18:40.260980Z",
     "iopub.status.busy": "2025-06-13T07:18:40.260734Z",
     "iopub.status.idle": "2025-06-13T07:18:40.279603Z",
     "shell.execute_reply": "2025-06-13T07:18:40.279005Z"
    }
   },
   "outputs": [],
   "source": "# Use the module's visualization capabilities\n# First, let's use the built-in comparison visualization\ndimensions_to_compare = [\n    'Country × Gender × Age',\n    'Region × Gender × Age', \n    'Country',\n    'Region',\n    'Continent',\n    'Gender',\n    'Age Group'\n]\n\n# Calculate scores for visualization\nviz_scorecard = analysis.calculate_scorecard(dimensions=dimensions_to_compare)\n\n# Create custom visualization showing granularity levels\nfig, (ax1, ax2) = plt.subplots(1, 2, figsize=(16, 8))\n\n# Define colors by granularity level\ngranularity_colors = {\n    'Country × Gender × Age': '#1f77b4',  # Fine-grained\n    'Region × Gender × Age': '#ff7f0e',   # Medium-grained\n    'Country': '#2ca02c',                 # Geographic\n    'Region': '#d62728',                  # Geographic\n    'Continent': '#9467bd',               # Geographic\n    'Gender': '#8c564b',                  # Demographic\n    'Age Group': '#e377c2'                # Demographic\n}\n\n# Filter out AVERAGE row\nviz_data = viz_scorecard[viz_scorecard['Dimension'] != 'AVERAGE'].copy()\n\n# Plot GRI scores\ncolors = [granularity_colors[dim] for dim in viz_data['Dimension']]\nbars1 = ax1.bar(range(len(viz_data)), viz_data['GRI Score'], color=colors, alpha=0.8)\nax1.set_xlabel('Dimension', fontsize=12)\nax1.set_ylabel('GRI Score', fontsize=12)\nax1.set_title('GRI Scores: Fine to Coarse Dimensions', fontsize=14)\nax1.set_xticks(range(len(viz_data)))\nax1.set_xticklabels(viz_data['Dimension'], rotation=45, ha='right')\nax1.set_ylim(0, 1)\nax1.grid(axis='y', alpha=0.3)\n\n# Add reference line\nax1.axhline(y=0.5, color='red', linestyle='--', alpha=0.5, label='Midpoint (0.5)')\n\n# Plot Diversity scores\nbars2 = ax2.bar(range(len(viz_data)), viz_data['Diversity Score'], color=colors, alpha=0.8)\nax2.set_xlabel('Dimension', fontsize=12)\nax2.set_ylabel('Diversity Score', fontsize=12)\nax2.set_title('Diversity Scores: Fine to Coarse Dimensions', fontsize=14)\nax2.set_xticks(range(len(viz_data)))\nax2.set_xticklabels(viz_data['Dimension'], rotation=45, ha='right')\nax2.set_ylim(0, 1)\nax2.grid(axis='y', alpha=0.3)\n\nplt.tight_layout()\nplt.show()\n\n# Summary statistics by granularity\nprint(\"\\nSUMMARY BY GRANULARITY:\")\nprint(\"=\" * 50)\nfor dim in viz_data['Dimension']:\n    gri = viz_data[viz_data['Dimension'] == dim]['GRI Score'].values[0]\n    div = viz_data[viz_data['Dimension'] == dim]['Diversity Score'].values[0]\n    \n    if '×' in dim:\n        gran_type = \"Multi-factor\"\n    elif dim in ['Country', 'Region', 'Continent']:\n        gran_type = \"Geographic\"\n    else:\n        gran_type = \"Demographic\"\n    \n    print(f\"{dim:<25} ({gran_type:<12}): GRI={gri:.3f}, Diversity={div:.3f}\")"
  },
  {
   "cell_type": "markdown",
   "source": "## 5. Educational Insights: Why Dimension Choices Matter",
   "metadata": {}
  },
  {
   "cell_type": "code",
   "metadata": {
    "execution": {
     "iopub.execute_input": "2025-06-13T07:18:40.282680Z",
     "iopub.status.busy": "2025-06-13T07:18:40.282446Z",
     "iopub.status.idle": "2025-06-13T07:18:40.628037Z",
     "shell.execute_reply": "2025-06-13T07:18:40.627484Z"
    }
   },
   "outputs": [],
   "source": "# Demonstrate the impact of dimension choices\nprint(\"UNDERSTANDING DIMENSION CHOICES\")\nprint(\"=\" * 60)\n\n# Compare fine vs coarse geographic dimensions\ngeo_fine = analysis.calculate_dimension('Country')\ngeo_medium = analysis.calculate_dimension('Region') \ngeo_coarse = analysis.calculate_dimension('Continent')\n\nprint(\"\\n📍 GEOGRAPHIC GRANULARITY COMPARISON:\")\nprint(f\"Country-level GRI:   {geo_fine['gri_score']:.3f} (captures {geo_fine['coverage']:.1%} of countries)\")\nprint(f\"Region-level GRI:    {geo_medium['gri_score']:.3f} (captures {geo_medium['coverage']:.1%} of regions)\")\nprint(f\"Continent-level GRI: {geo_coarse['gri_score']:.3f} (captures {geo_coarse['coverage']:.1%} of continents)\")\n\n# Show how aggregation works\nprint(\"\\n\\n🔄 AGGREGATION EXAMPLE:\")\nprint(\"When we aggregate from Country to Region, the module:\")\nprint(\"1. Maps each country to its UN region\")\nprint(\"2. Sums proportions within each region\")\nprint(\"3. Compares to regional benchmarks\")\n\n# Example: Show countries in a specific region\nexample_region = 'Northern America'\ncountries_in_region = analysis.data[analysis.data['region'] == example_region]['country'].unique()\nprint(f\"\\nExample - Countries in '{example_region}':\")\nfor country in sorted(countries_in_region):\n    count = len(analysis.data[analysis.data['country'] == country])\n    print(f\"  • {country}: {count} participants\")\n\n# Educational comparison of dimension types\nprint(\"\\n\\n📊 DIMENSION TYPE COMPARISON:\")\n\n# Multi-factor vs single-factor\nmulti_factor = analysis.calculate_dimension('Country × Gender × Age')\nsingle_country = analysis.calculate_dimension('Country')\nsingle_gender = analysis.calculate_dimension('Gender')\n\nprint(f\"\\nMulti-factor (Country × Gender × Age):\")\nprint(f\"  • GRI: {multi_factor['gri_score']:.3f}\")\nprint(f\"  • Captures interactions between demographics\")\nprint(f\"  • Most detailed but hardest to achieve high scores\")\n\nprint(f\"\\nSingle-factor Geographic (Country):\")\nprint(f\"  • GRI: {single_country['gri_score']:.3f}\")\nprint(f\"  • Shows pure geographic representation\")\nprint(f\"  • Easier to interpret and target improvements\")\n\nprint(f\"\\nSingle-factor Demographic (Gender):\")\nprint(f\"  • GRI: {single_gender['gri_score']:.3f}\")\nprint(f\"  • Shows global demographic balance\")\nprint(f\"  • Often easier to achieve high scores\")"
  },
  {
   "cell_type": "markdown",
   "source": "## 6. Practical Applications and Recommendations",
   "metadata": {}
  },
  {
   "cell_type": "code",
   "metadata": {
    "execution": {
     "iopub.execute_input": "2025-06-13T07:18:40.630374Z",
     "iopub.status.busy": "2025-06-13T07:18:40.630212Z",
     "iopub.status.idle": "2025-06-13T07:18:40.638477Z",
     "shell.execute_reply": "2025-06-13T07:18:40.638078Z"
    }
   },
   "outputs": [],
   "source": "# Generate actionable insights using different dimension granularities\nprint(\"PRACTICAL APPLICATIONS OF DIMENSION CHOICES\")\nprint(\"=\" * 60)\n\n# 1. Identify recruitment priorities\nprint(\"\\n1️⃣ RECRUITMENT PRIORITIES:\")\n\n# Get all dimension scores\nall_dims = analysis.calculate_scorecard()\nlow_scoring = all_dims[(all_dims['GRI Score'] < 0.5) & (all_dims['Dimension'] != 'AVERAGE')].sort_values('GRI Score')\n\nprint(\"\\nLowest scoring dimensions (< 0.5 GRI):\")\nfor _, row in low_scoring.head(5).iterrows():\n    print(f\"  • {row['Dimension']:.<40} GRI: {row['GRI Score']:.3f}\")\n\n# 2. Geographic vs Demographic analysis\nprint(\"\\n\\n2️⃣ GEOGRAPHIC VS DEMOGRAPHIC PATTERNS:\")\n\ngeo_dims = ['Country', 'Region', 'Continent']\ndemo_dims = ['Gender', 'Age Group', 'Religion', 'Environment']\n\ngeo_scores = all_dims[all_dims['Dimension'].isin(geo_dims)]['GRI Score'].mean()\ndemo_scores = all_dims[all_dims['Dimension'].isin(demo_dims)]['GRI Score'].mean()\n\nprint(f\"\\nAverage Geographic GRI: {geo_scores:.3f}\")\nprint(f\"Average Demographic GRI: {demo_scores:.3f}\")\n\nif geo_scores < demo_scores:\n    print(\"\\n→ Geographic representation needs more attention than demographics\")\n    print(\"  Recommendation: Focus on recruiting from underrepresented regions/countries\")\nelse:\n    print(\"\\n→ Demographic representation needs more attention than geography\")\n    print(\"  Recommendation: Target specific age groups, genders, or religious groups\")\n\n# 3. Use module's built-in analysis methods\nprint(\"\\n\\n3️⃣ TARGETED IMPROVEMENT STRATEGIES:\")\n\n# Get detailed dimension analysis\ncountry_analysis = analysis.calculate_dimension('Country', return_details=True)\n\n# Find most underrepresented countries\nif 'details' in country_analysis:\n    details = country_analysis['details']\n    # Sort by difference between population and sample proportion\n    details['gap'] = details['population_proportion'] - details['sample_proportion']\n    underrep = details[details['gap'] > 0].sort_values('gap', ascending=False).head(5)\n    \n    print(\"\\nMost underrepresented countries:\")\n    for _, row in underrep.iterrows():\n        print(f\"  • {row['country']:.<30} Gap: {row['gap']:.3%}\")\n\n# 4. Reporting recommendations\nprint(\"\\n\\n4️⃣ REPORTING RECOMMENDATIONS:\")\nprint(\"\\nFor different audiences, use different dimension sets:\")\nprint(\"  • Executive Summary: Use 'Continent' and single demographics\")\nprint(\"  • Regional Teams: Use 'Region' and 'Region × Demographics'\")\nprint(\"  • Detailed Analysis: Use full 'Country × Gender × Age' breakdown\")\nprint(\"  • Public Reports: Balance geographic and demographic dimensions\")"
  },
  {
   "cell_type": "code",
   "metadata": {},
   "source": "# Create a comprehensive comparison visualization\nfig, ((ax1, ax2), (ax3, ax4)) = plt.subplots(2, 2, figsize=(16, 12))\n\n# 1. Geographic hierarchy comparison\ngeo_dims = ['Country', 'Region', 'Continent']\ngeo_scores = all_dims[all_dims['Dimension'].isin(geo_dims)]\n\nax1.bar(geo_scores['Dimension'], geo_scores['GRI Score'], color=['#2ca02c', '#d62728', '#9467bd'])\nax1.set_title('Geographic Hierarchy: Fine to Coarse', fontsize=14)\nax1.set_ylabel('GRI Score')\nax1.set_ylim(0, 1)\nax1.grid(axis='y', alpha=0.3)\n\n# 2. Dimension complexity comparison\ncomplexity_order = ['Gender', 'Age Group', 'Country', 'Country × Gender × Age']\ncomplexity_scores = all_dims[all_dims['Dimension'].isin(complexity_order)]\n\nax2.bar(range(len(complexity_order)), \n        [complexity_scores[complexity_scores['Dimension'] == d]['GRI Score'].values[0] for d in complexity_order],\n        color=['#8c564b', '#e377c2', '#2ca02c', '#1f77b4'])\nax2.set_title('Dimension Complexity: Simple to Complex', fontsize=14)\nax2.set_xticks(range(len(complexity_order)))\nax2.set_xticklabels(complexity_order, rotation=45, ha='right')\nax2.set_ylabel('GRI Score')\nax2.set_ylim(0, 1)\nax2.grid(axis='y', alpha=0.3)\n\n# 3. Scatter plot: GRI vs Diversity\nax3.scatter(all_dims[all_dims['Dimension'] != 'AVERAGE']['GRI Score'], \n           all_dims[all_dims['Dimension'] != 'AVERAGE']['Diversity Score'],\n           s=100, alpha=0.6)\nax3.set_xlabel('GRI Score')\nax3.set_ylabel('Diversity Score')\nax3.set_title('GRI vs Diversity Scores Across All Dimensions', fontsize=14)\nax3.grid(True, alpha=0.3)\n\n# Add annotations for interesting points\nfor _, row in all_dims[all_dims['Dimension'] != 'AVERAGE'].iterrows():\n    if row['GRI Score'] > 0.8 or row['Diversity Score'] > 0.8:\n        ax3.annotate(row['Dimension'], (row['GRI Score'], row['Diversity Score']), \n                    xytext=(5, 5), textcoords='offset points', fontsize=8)\n\n# 4. Category comparison\ncategories = {\n    'Fine-grained': ['Country × Gender × Age', 'Country × Religion', 'Country × Environment'],\n    'Geographic': ['Country', 'Region', 'Continent'],\n    'Demographic': ['Gender', 'Age Group', 'Religion', 'Environment']\n}\n\ncat_means = []\ncat_names = []\nfor cat_name, dims in categories.items():\n    mean_score = all_dims[all_dims['Dimension'].isin(dims)]['GRI Score'].mean()\n    cat_means.append(mean_score)\n    cat_names.append(cat_name)\n\nax4.bar(cat_names, cat_means, color=['#1f77b4', '#ff7f0e', '#2ca02c'])\nax4.set_title('Average GRI by Dimension Category', fontsize=14)\nax4.set_ylabel('Average GRI Score')\nax4.set_ylim(0, 1)\nax4.grid(axis='y', alpha=0.3)\n\nplt.tight_layout()\nplt.show()",
   "outputs": []
  },
  {
   "cell_type": "markdown",
   "source": "## Summary\n\nThis notebook demonstrated how the **GRI module** handles different dimension granularities:\n\n### ✅ Key Module Features Demonstrated\n\n1. **Built-in Geographic Mapping**\n   - Automatic country → region → continent mapping\n   - Uses UN M49 standard regional classifications\n   - No manual mapping required\n\n2. **Flexible Dimension Calculation**\n   - `calculate_scorecard(dimensions=[...])` for custom dimension sets\n   - `calculate_dimension()` for individual dimension analysis\n   - Support for fine-grained to coarse dimensions\n\n3. **Aggregation Handling**\n   - Module automatically aggregates from fine to coarse dimensions\n   - Maintains proper proportion calculations at each level\n   - Handles missing data gracefully\n\n4. **Analysis Capabilities**\n   - Compare scores across dimension granularities\n   - Identify geographic vs demographic gaps\n   - Generate actionable recruitment insights\n\n### ✅ Educational Value Preserved\n\n- **Why dimension choices matter**: Different granularities reveal different patterns\n- **Trade-offs**: Fine dimensions are more precise but harder to achieve high scores\n- **Practical applications**: Choose dimensions based on audience and goals\n- **Strategic insights**: Use coarse dimensions to identify broad patterns, fine dimensions for specific gaps\n\n### ✅ Code Reduction Benefits\n\nThe new module structure significantly reduces code complexity:\n- No manual benchmark loading\n- No manual geographic mapping\n- Built-in visualization support\n- Standardized dimension configurations\n- Consistent API across all operations\n\nThe module makes it easy to experiment with different dimension granularities while maintaining robust analysis capabilities.",
   "metadata": {}
  }
 ],
 "metadata": {
  "kernelspec": {
   "display_name": "Python 3",
   "language": "python",
   "name": "python3"
  },
  "language_info": {
   "codemirror_mode": {
    "name": "ipython",
    "version": 3
   },
   "file_extension": ".py",
   "mimetype": "text/x-python",
   "name": "python",
   "nbconvert_exporter": "python",
   "pygments_lexer": "ipython3",
   "version": "3.12.2"
  }
 },
 "nbformat": 4,
 "nbformat_minor": 4
}