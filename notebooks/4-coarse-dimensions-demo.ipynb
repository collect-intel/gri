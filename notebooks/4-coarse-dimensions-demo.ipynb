{
 "cells": [
  {
   "cell_type": "markdown",
   "metadata": {},
   "source": [
    "# 4. Coarse Dimensions Demonstration\n",
    "\n",
    "This notebook demonstrates the expanded GRI scorecard with coarser-grained dimensions for broader representativeness analysis.\n",
    "\n",
    "## Overview\n",
    "\n",
    "The **expanded GRI scorecard** now includes both fine-grained and coarse-grained dimensions:\n",
    "\n",
    "### Fine-grained (Original)\n",
    "- Country × Gender × Age\n",
    "- Country × Religion  \n",
    "- Country × Environment\n",
    "\n",
    "### Coarse-grained (New)\n",
    "- **Country**: Country-level representativeness\n",
    "- **Region**: Regional representativeness (UN M49 regions)\n",
    "- **Continent**: Continental representativeness\n",
    "- **Gender**: Global gender representativeness\n",
    "- **Age Group**: Global age representativeness\n",
    "- **Religion**: Global religious representativeness\n",
    "- **Environment**: Global urban/rural representativeness\n",
    "\n",
    "**Why coarser dimensions matter:**\n",
    "- Provide different perspectives on representativeness\n",
    "- Help identify geographic vs. demographic imbalances\n",
    "- Useful for different analysis goals and reporting needs"
   ]
  },
  {
   "cell_type": "code",
   "execution_count": 1,
   "metadata": {
    "execution": {
     "iopub.execute_input": "2025-06-13T07:18:39.121680Z",
     "iopub.status.busy": "2025-06-13T07:18:39.121464Z",
     "iopub.status.idle": "2025-06-13T07:18:40.057501Z",
     "shell.execute_reply": "2025-06-13T07:18:40.056717Z"
    }
   },
   "outputs": [],
   "source": [
    "import sys\n",
    "import pandas as pd\n",
    "import numpy as np\n",
    "import matplotlib.pyplot as plt\n",
    "import seaborn as sns\n",
    "\n",
    "# Add gri module to path\n",
    "sys.path.append('..')\n",
    "from gri import calculate_gri_scorecard, get_config, load_data\n",
    "\n",
    "# Set plotting style\n",
    "plt.style.use('default')\n",
    "sns.set_palette('husl')\n",
    "pd.set_option('display.max_columns', None)"
   ]
  },
  {
   "cell_type": "markdown",
   "metadata": {},
   "source": [
    "## 1. Configuration Overview"
   ]
  },
  {
   "cell_type": "code",
   "execution_count": 2,
   "metadata": {
    "execution": {
     "iopub.execute_input": "2025-06-13T07:18:40.062322Z",
     "iopub.status.busy": "2025-06-13T07:18:40.061979Z",
     "iopub.status.idle": "2025-06-13T07:18:40.074821Z",
     "shell.execute_reply": "2025-06-13T07:18:40.074132Z"
    }
   },
   "outputs": [
    {
     "name": "stdout",
     "output_type": "stream",
     "text": [
      "EXPANDED STANDARD GRI SCORECARD\n",
      "==================================================\n",
      "Total dimensions: 13\n",
      "\n",
      " 1. Country × Gender × Age\n",
      "    Columns: ['country', 'gender', 'age_group']\n",
      "    Type: Fine-grained demographic representativeness\n",
      "\n",
      " 2. Country × Religion\n",
      "    Columns: ['country', 'religion']\n",
      "    Type: Religious representativeness by country\n",
      "\n",
      " 3. Country × Environment\n",
      "    Columns: ['country', 'environment']\n",
      "    Type: Urban/rural representativeness by country\n",
      "\n",
      " 4. Country\n",
      "    Columns: ['country']\n",
      "    Type: Country-level representativeness\n",
      "\n",
      " 5. Region × Gender × Age\n",
      "    Columns: ['region', 'gender', 'age_group']\n",
      "    Type: Regional demographic representativeness\n",
      "    Requires: ['country_to_region']\n",
      "\n",
      " 6. Region × Religion\n",
      "    Columns: ['region', 'religion']\n",
      "    Type: Regional religious representativeness\n",
      "    Requires: ['country_to_region']\n",
      "\n",
      " 7. Region × Environment\n",
      "    Columns: ['region', 'environment']\n",
      "    Type: Regional urban/rural representativeness\n",
      "    Requires: ['country_to_region']\n",
      "\n",
      " 8. Region\n",
      "    Columns: ['region']\n",
      "    Type: Regional representativeness\n",
      "    Requires: ['country_to_region']\n",
      "\n",
      " 9. Continent\n",
      "    Columns: ['continent']\n",
      "    Type: Continental representativeness\n",
      "    Requires: ['country_to_continent']\n",
      "\n",
      "10. Religion\n",
      "    Columns: ['religion']\n",
      "    Type: Global religious representativeness\n",
      "\n",
      "11. Environment\n",
      "    Columns: ['environment']\n",
      "    Type: Global urban/rural representativeness\n",
      "\n",
      "12. Age Group\n",
      "    Columns: ['age_group']\n",
      "    Type: Global age representativeness\n",
      "\n",
      "13. Gender\n",
      "    Columns: ['gender']\n",
      "    Type: Global gender representativeness\n",
      "\n"
     ]
    }
   ],
   "source": [
    "# Load configuration to show expanded scorecard\n",
    "config = get_config()\n",
    "\n",
    "print(\"EXPANDED STANDARD GRI SCORECARD\")\n",
    "print(\"=\" * 50)\n",
    "print(f\"Total dimensions: {len(config.get_standard_scorecard())}\")\n",
    "print()\n",
    "\n",
    "for i, dim in enumerate(config.get_standard_scorecard(), 1):\n",
    "    print(f\"{i:2d}. {dim['name']}\")\n",
    "    print(f\"    Columns: {dim['columns']}\")\n",
    "    print(f\"    Type: {dim['description']}\")\n",
    "    if 'requires_mapping' in dim:\n",
    "        print(f\"    Requires: {dim['requires_mapping']}\")\n",
    "    print()"
   ]
  },
  {
   "cell_type": "markdown",
   "metadata": {},
   "source": [
    "## 2. Create Sample Data with Full Coverage"
   ]
  },
  {
   "cell_type": "code",
   "execution_count": 3,
   "metadata": {
    "execution": {
     "iopub.execute_input": "2025-06-13T07:18:40.110956Z",
     "iopub.status.busy": "2025-06-13T07:18:40.110745Z",
     "iopub.status.idle": "2025-06-13T07:18:40.119536Z",
     "shell.execute_reply": "2025-06-13T07:18:40.118861Z"
    }
   },
   "outputs": [
    {
     "name": "stdout",
     "output_type": "stream",
     "text": [
      "Sample survey: 1,000 participants\n",
      "Countries: 16\n",
      "Unique countries: ['Argentina', 'Australia', 'Brazil', 'Canada', 'China', 'Egypt', 'France', 'Germany', 'India', 'Indonesia', 'Japan', 'Nigeria', 'Poland', 'South Africa', 'Spain', 'United States']\n",
      "\n",
      "Sample composition:\n",
      "- Gender: {'Male': np.int64(526), 'Female': np.int64(474)}\n",
      "- Environment: {'Urban': np.int64(524), 'Rural': np.int64(476)}\n"
     ]
    }
   ],
   "source": [
    "# Create comprehensive sample data\n",
    "np.random.seed(42)\n",
    "n_participants = 1000\n",
    "\n",
    "# Include diverse countries from different regions\n",
    "countries = [\n",
    "    'United States', 'Canada',  # North America\n",
    "    'Brazil', 'Argentina',      # South America  \n",
    "    'Germany', 'France', 'Spain', 'Poland',  # Europe\n",
    "    'Nigeria', 'South Africa', 'Egypt',      # Africa\n",
    "    'India', 'China', 'Japan', 'Indonesia',  # Asia\n",
    "    'Australia'                 # Oceania\n",
    "]\n",
    "\n",
    "sample_survey = pd.DataFrame({\n",
    "    'country': np.random.choice(countries, n_participants),\n",
    "    'gender': np.random.choice(['Male', 'Female'], n_participants), \n",
    "    'age_group': np.random.choice([\n",
    "        '18-25', '26-35', '36-45', '46-55', '56-65', '65+'\n",
    "    ], n_participants),\n",
    "    'religion': np.random.choice([\n",
    "        'Christianity', 'Islam', 'Hinduism', 'Buddhism', \n",
    "        'Judaism', 'I do not identify with any religious group or faith',\n",
    "        'Other religious group'\n",
    "    ], n_participants),\n",
    "    'environment': np.random.choice(['Urban', 'Rural'], n_participants)\n",
    "})\n",
    "\n",
    "print(f\"Sample survey: {len(sample_survey):,} participants\")\n",
    "print(f\"Countries: {sample_survey['country'].nunique()}\")\n",
    "print(f\"Unique countries: {sorted(sample_survey['country'].unique())}\")\n",
    "print()\n",
    "print(\"Sample composition:\")\n",
    "print(f\"- Gender: {dict(sample_survey['gender'].value_counts())}\")\n",
    "print(f\"- Environment: {dict(sample_survey['environment'].value_counts())}\")"
   ]
  },
  {
   "cell_type": "markdown",
   "metadata": {},
   "source": [
    "## 3. Load Benchmark Data"
   ]
  },
  {
   "cell_type": "code",
   "execution_count": 4,
   "metadata": {
    "execution": {
     "iopub.execute_input": "2025-06-13T07:18:40.121969Z",
     "iopub.status.busy": "2025-06-13T07:18:40.121830Z",
     "iopub.status.idle": "2025-06-13T07:18:40.130860Z",
     "shell.execute_reply": "2025-06-13T07:18:40.130266Z"
    }
   },
   "outputs": [
    {
     "name": "stdout",
     "output_type": "stream",
     "text": [
      "Benchmark data loaded:\n",
      "- age_gender: 2,699 strata, proportion sum = 1.000000\n",
      "- religion: 1,607 strata, proportion sum = 1.000000\n",
      "- environment: 449 strata, proportion sum = 1.000000\n"
     ]
    }
   ],
   "source": [
    "# Load all benchmark datasets\n",
    "benchmark_data = {\n",
    "    'age_gender': load_data('../data/processed/benchmark_country_gender_age.csv'),\n",
    "    'religion': load_data('../data/processed/benchmark_country_religion.csv'),\n",
    "    'environment': load_data('../data/processed/benchmark_country_environment.csv')\n",
    "}\n",
    "\n",
    "print(\"Benchmark data loaded:\")\n",
    "for name, df in benchmark_data.items():\n",
    "    print(f\"- {name}: {len(df):,} strata, proportion sum = {df['population_proportion'].sum():.6f}\")"
   ]
  },
  {
   "cell_type": "markdown",
   "metadata": {},
   "source": [
    "## 4. Calculate Expanded GRI Scorecard"
   ]
  },
  {
   "cell_type": "code",
   "execution_count": 5,
   "metadata": {
    "execution": {
     "iopub.execute_input": "2025-06-13T07:18:40.133365Z",
     "iopub.status.busy": "2025-06-13T07:18:40.133201Z",
     "iopub.status.idle": "2025-06-13T07:18:40.257799Z",
     "shell.execute_reply": "2025-06-13T07:18:40.256984Z"
    }
   },
   "outputs": [
    {
     "name": "stdout",
     "output_type": "stream",
     "text": [
      "Calculating expanded GRI scorecard...\n",
      "Warning: Failed to calculate scores for dimension 'Region × Religion': Cannot create dimension ['region', 'religion']. Missing columns: ['religion']\n",
      "Warning: Failed to calculate scores for dimension 'Region × Environment': Cannot create dimension ['region', 'environment']. Missing columns: ['environment']\n",
      "Warning: Failed to calculate scores for dimension 'Religion': Cannot create dimension ['religion']. Missing columns: ['religion']\n",
      "Warning: Failed to calculate scores for dimension 'Environment': Cannot create dimension ['environment']. Missing columns: ['environment']\n",
      "\n",
      "Calculated 9 dimensions + average\n",
      "\n",
      "EXPANDED GRI SCORECARD RESULTS\n",
      "============================================================\n",
      "             Dimension  GRI Score  Diversity Score\n",
      "Country × Gender × Age     0.0467           0.0000\n",
      "    Country × Religion     0.0000           0.0000\n",
      " Country × Environment     0.0428           0.0741\n",
      "               Country     0.0467           0.0385\n",
      " Region × Gender × Age     0.0522           0.0000\n",
      "                Region     0.0522           0.0588\n",
      "             Continent     0.0799           0.2000\n",
      "             Age Group     0.8872           1.0000\n",
      "                Gender     0.9805           1.0000\n",
      "               AVERAGE     0.2431           0.2635\n"
     ]
    }
   ],
   "source": [
    "# Calculate the full expanded scorecard\n",
    "print(\"Calculating expanded GRI scorecard...\")\n",
    "scorecard = calculate_gri_scorecard(\n",
    "    sample_survey,\n",
    "    benchmark_data, \n",
    "    survey_source='global_dialogues',\n",
    "    use_extended_dimensions=False  # Standard scorecard now includes coarser dimensions\n",
    ")\n",
    "\n",
    "print(f\"\\nCalculated {len(scorecard)-1} dimensions + average\")\n",
    "print(\"\\nEXPANDED GRI SCORECARD RESULTS\")\n",
    "print(\"=\" * 60)\n",
    "\n",
    "# Display with formatting\n",
    "display_df = scorecard.copy()\n",
    "display_df['GRI Score'] = display_df['GRI Score'].round(4)\n",
    "display_df['Diversity Score'] = display_df['Diversity Score'].round(4)\n",
    "\n",
    "print(display_df[['Dimension', 'GRI Score', 'Diversity Score']].to_string(index=False))"
   ]
  },
  {
   "cell_type": "markdown",
   "metadata": {},
   "source": [
    "## 5. Analyze Dimension Categories"
   ]
  },
  {
   "cell_type": "code",
   "execution_count": 6,
   "metadata": {
    "execution": {
     "iopub.execute_input": "2025-06-13T07:18:40.260980Z",
     "iopub.status.busy": "2025-06-13T07:18:40.260734Z",
     "iopub.status.idle": "2025-06-13T07:18:40.279603Z",
     "shell.execute_reply": "2025-06-13T07:18:40.279005Z"
    }
   },
   "outputs": [
    {
     "name": "stdout",
     "output_type": "stream",
     "text": [
      "DIMENSIONS BY GRANULARITY\n",
      "========================================\n",
      "\n",
      "Fine-grained (Country-based):\n",
      "  • Country × Gender × Age: GRI=0.047, Diversity=0.000\n",
      "  → Category Average: GRI=0.047, Diversity=0.000\n",
      "\n",
      "Medium-grained (Multi-factor):\n",
      "  • Country × Religion: GRI=0.000, Diversity=0.000\n",
      "  • Country × Environment: GRI=0.043, Diversity=0.074\n",
      "  → Category Average: GRI=0.021, Diversity=0.037\n",
      "\n",
      "Coarse-grained (Geographic):\n",
      "  • Country: GRI=0.047, Diversity=0.038\n",
      "  • Region: GRI=0.052, Diversity=0.059\n",
      "  • Continent: GRI=0.080, Diversity=0.200\n",
      "  → Category Average: GRI=0.060, Diversity=0.099\n",
      "\n",
      "Medium-grained (Regional):\n",
      "  • Region × Gender × Age: GRI=0.052, Diversity=0.000\n",
      "  → Category Average: GRI=0.052, Diversity=0.000\n",
      "\n",
      "Coarse-grained (Demographic):\n",
      "  • Age Group: GRI=0.887, Diversity=1.000\n",
      "  • Gender: GRI=0.981, Diversity=1.000\n",
      "  → Category Average: GRI=0.934, Diversity=1.000\n"
     ]
    }
   ],
   "source": [
    "# Categorize dimensions by granularity\n",
    "results_df = scorecard[scorecard['Dimension'] != 'AVERAGE'].copy()\n",
    "\n",
    "# Categorize dimensions\n",
    "def categorize_dimension(dim_name):\n",
    "    if ' × ' in dim_name:\n",
    "        if 'Country' in dim_name and len(dim_name.split(' × ')) >= 3:\n",
    "            return 'Fine-grained (Country-based)'\n",
    "        elif 'Region' in dim_name:\n",
    "            return 'Medium-grained (Regional)'  \n",
    "        else:\n",
    "            return 'Medium-grained (Multi-factor)'\n",
    "    else:\n",
    "        if dim_name in ['Country', 'Region', 'Continent']:\n",
    "            return 'Coarse-grained (Geographic)'\n",
    "        else:\n",
    "            return 'Coarse-grained (Demographic)'\n",
    "\n",
    "results_df['Category'] = results_df['Dimension'].apply(categorize_dimension)\n",
    "\n",
    "print(\"DIMENSIONS BY GRANULARITY\")\n",
    "print(\"=\" * 40)\n",
    "for category in results_df['Category'].unique():\n",
    "    cat_data = results_df[results_df['Category'] == category]\n",
    "    print(f\"\\n{category}:\")\n",
    "    for _, row in cat_data.iterrows():\n",
    "        print(f\"  • {row['Dimension']}: GRI={row['GRI Score']:.3f}, Diversity={row['Diversity Score']:.3f}\")\n",
    "    \n",
    "    avg_gri = cat_data['GRI Score'].mean()\n",
    "    avg_div = cat_data['Diversity Score'].mean()\n",
    "    print(f\"  → Category Average: GRI={avg_gri:.3f}, Diversity={avg_div:.3f}\")"
   ]
  },
  {
   "cell_type": "markdown",
   "metadata": {},
   "source": [
    "## 6. Visualize Results by Granularity"
   ]
  },
  {
   "cell_type": "code",
   "execution_count": 7,
   "metadata": {
    "execution": {
     "iopub.execute_input": "2025-06-13T07:18:40.282680Z",
     "iopub.status.busy": "2025-06-13T07:18:40.282446Z",
     "iopub.status.idle": "2025-06-13T07:18:40.628037Z",
     "shell.execute_reply": "2025-06-13T07:18:40.627484Z"
    }
   },
   "outputs": [
    {
     "data": {
      "image/png": "[encoded data removed]",
      "text/plain": [
       "<Figure size 1600x800 with 2 Axes>"
      ]
     },
     "metadata": {},
     "output_type": "display_data"
    }
   ],
   "source": [
    "# Create visualization\n",
    "fig, (ax1, ax2) = plt.subplots(1, 2, figsize=(16, 8))\n",
    "\n",
    "# Color map for categories\n",
    "category_colors = {\n",
    "    'Fine-grained (Country-based)': '#1f77b4',\n",
    "    'Medium-grained (Regional)': '#ff7f0e', \n",
    "    'Medium-grained (Multi-factor)': '#2ca02c',\n",
    "    'Coarse-grained (Geographic)': '#d62728',\n",
    "    'Coarse-grained (Demographic)': '#9467bd'\n",
    "}\n",
    "\n",
    "# GRI Scores\n",
    "colors = [category_colors[cat] for cat in results_df['Category']]\n",
    "bars1 = ax1.bar(range(len(results_df)), results_df['GRI Score'], color=colors, alpha=0.8)\n",
    "ax1.set_xlabel('Dimension')\n",
    "ax1.set_ylabel('GRI Score')\n",
    "ax1.set_title('GRI Scores by Dimension Granularity')\n",
    "ax1.set_xticks(range(len(results_df)))\n",
    "ax1.set_xticklabels([d[:15] + '...' if len(d) > 15 else d for d in results_df['Dimension']], \n",
    "                    rotation=45, ha='right')\n",
    "ax1.set_ylim(0, 1)\n",
    "ax1.grid(axis='y', alpha=0.3)\n",
    "\n",
    "# Diversity Scores\n",
    "bars2 = ax2.bar(range(len(results_df)), results_df['Diversity Score'], color=colors, alpha=0.8)\n",
    "ax2.set_xlabel('Dimension')\n",
    "ax2.set_ylabel('Diversity Score')\n",
    "ax2.set_title('Diversity Scores by Dimension Granularity')\n",
    "ax2.set_xticks(range(len(results_df)))\n",
    "ax2.set_xticklabels([d[:15] + '...' if len(d) > 15 else d for d in results_df['Dimension']], \n",
    "                    rotation=45, ha='right')\n",
    "ax2.set_ylim(0, 1)\n",
    "ax2.grid(axis='y', alpha=0.3)\n",
    "\n",
    "# Add legend\n",
    "legend_elements = [plt.Rectangle((0,0),1,1, facecolor=color, alpha=0.8, label=category) \n",
    "                  for category, color in category_colors.items()]\n",
    "ax1.legend(handles=legend_elements, loc='upper right', bbox_to_anchor=(1, 1))\n",
    "\n",
    "plt.tight_layout()\n",
    "plt.show()"
   ]
  },
  {
   "cell_type": "markdown",
   "metadata": {},
   "source": [
    "## 7. Insights from Coarse Dimensions"
   ]
  },
  {
   "cell_type": "code",
   "execution_count": 8,
   "metadata": {
    "execution": {
     "iopub.execute_input": "2025-06-13T07:18:40.630374Z",
     "iopub.status.busy": "2025-06-13T07:18:40.630212Z",
     "iopub.status.idle": "2025-06-13T07:18:40.638477Z",
     "shell.execute_reply": "2025-06-13T07:18:40.638078Z"
    }
   },
   "outputs": [
    {
     "name": "stdout",
     "output_type": "stream",
     "text": [
      "KEY INSIGHTS FROM COARSE DIMENSIONS\n",
      "==================================================\n",
      "\n",
      "📍 GEOGRAPHIC REPRESENTATIVENESS:\n",
      "  • Country: Low accuracy, Low coverage\n",
      "  • Region: Low accuracy, Low coverage\n",
      "  • Continent: Low accuracy, Low coverage\n",
      "\n",
      "👥 DEMOGRAPHIC REPRESENTATIVENESS:\n",
      "  • Age Group: High accuracy, High coverage\n",
      "  • Gender: High accuracy, High coverage\n",
      "\n",
      "🔍 OVERALL PATTERNS:\n",
      "  • Coarse-grained (Demographic): Avg GRI=0.934, Avg Diversity=1.000\n",
      "  • Coarse-grained (Geographic): Avg GRI=0.060, Avg Diversity=0.099\n",
      "  • Fine-grained (Country-based): Avg GRI=0.047, Avg Diversity=0.000\n",
      "  • Medium-grained (Multi-factor): Avg GRI=0.021, Avg Diversity=0.037\n",
      "  • Medium-grained (Regional): Avg GRI=0.052, Avg Diversity=0.000\n",
      "\n",
      "💡 RECOMMENDATIONS:\n",
      "  • Use coarse dimensions to identify broad representativeness patterns\n",
      "  • Fine-grained dimensions reveal specific demographic gaps\n",
      "  • Regional analysis helps optimize geographic targeting\n",
      "  • Single demographic dimensions guide recruitment priorities\n"
     ]
    }
   ],
   "source": [
    "print(\"KEY INSIGHTS FROM COARSE DIMENSIONS\")\n",
    "print(\"=\" * 50)\n",
    "\n",
    "# Geographic analysis\n",
    "geo_dims = results_df[results_df['Category'] == 'Coarse-grained (Geographic)']\n",
    "if len(geo_dims) > 0:\n",
    "    print(\"\\n📍 GEOGRAPHIC REPRESENTATIVENESS:\")\n",
    "    for _, row in geo_dims.iterrows():\n",
    "        gri_level = \"High\" if row['GRI Score'] > 0.6 else \"Medium\" if row['GRI Score'] > 0.3 else \"Low\"\n",
    "        div_level = \"High\" if row['Diversity Score'] > 0.6 else \"Medium\" if row['Diversity Score'] > 0.3 else \"Low\"\n",
    "        print(f\"  • {row['Dimension']}: {gri_level} accuracy, {div_level} coverage\")\n",
    "\n",
    "# Demographic analysis  \n",
    "demo_dims = results_df[results_df['Category'] == 'Coarse-grained (Demographic)']\n",
    "if len(demo_dims) > 0:\n",
    "    print(\"\\n👥 DEMOGRAPHIC REPRESENTATIVENESS:\")\n",
    "    for _, row in demo_dims.iterrows():\n",
    "        gri_level = \"High\" if row['GRI Score'] > 0.6 else \"Medium\" if row['GRI Score'] > 0.3 else \"Low\"\n",
    "        div_level = \"High\" if row['Diversity Score'] > 0.6 else \"Medium\" if row['Diversity Score'] > 0.3 else \"Low\"\n",
    "        print(f\"  • {row['Dimension']}: {gri_level} accuracy, {div_level} coverage\")\n",
    "\n",
    "# Overall patterns\n",
    "print(\"\\n🔍 OVERALL PATTERNS:\")\n",
    "avg_by_category = results_df.groupby('Category')[['GRI Score', 'Diversity Score']].mean()\n",
    "for category, scores in avg_by_category.iterrows():\n",
    "    print(f\"  • {category}: Avg GRI={scores['GRI Score']:.3f}, Avg Diversity={scores['Diversity Score']:.3f}\")\n",
    "\n",
    "print(\"\\n💡 RECOMMENDATIONS:\")\n",
    "print(\"  • Use coarse dimensions to identify broad representativeness patterns\")\n",
    "print(\"  • Fine-grained dimensions reveal specific demographic gaps\")\n",
    "print(\"  • Regional analysis helps optimize geographic targeting\")\n",
    "print(\"  • Single demographic dimensions guide recruitment priorities\")"
   ]
  },
  {
   "cell_type": "markdown",
   "metadata": {},
   "source": [
    "## Summary\n",
    "\n",
    "This notebook demonstrated the **expanded GRI scorecard** with coarser-grained dimensions that provide:\n",
    "\n",
    "### ✅ Enhanced Analysis Capabilities\n",
    "- **Multi-level perspective**: Fine → Medium → Coarse granularity\n",
    "- **Geographic hierarchy**: Country → Region → Continent\n",
    "- **Demographic focus**: Individual demographic factors\n",
    "- **Comprehensive coverage**: 13 standard dimensions\n",
    "\n",
    "### ✅ Practical Benefits\n",
    "- **Strategic insights**: Identify whether issues are geographic vs. demographic\n",
    "- **Recruitment guidance**: Target specific countries, regions, or demographics\n",
    "- **Progress tracking**: Monitor improvements at different granularities\n",
    "- **Reporting flexibility**: Choose appropriate detail level for different audiences\n",
    "\n",
    "### ✅ Configuration-Driven\n",
    "- **Easy extension**: Add new dimensions via YAML configuration\n",
    "- **Flexible mapping**: Support different survey formats and regional definitions\n",
    "- **Backwards compatible**: Existing code continues to work\n",
    "\n",
    "The expanded scorecard provides a comprehensive view of representativeness from multiple angles, enabling more nuanced analysis and targeted improvements to survey sampling strategies."
   ]
  }
 ],
 "metadata": {
  "kernelspec": {
   "display_name": "Python 3",
   "language": "python",
   "name": "python3"
  },
  "language_info": {
   "codemirror_mode": {
    "name": "ipython",
    "version": 3
   },
   "file_extension": ".py",
   "mimetype": "text/x-python",
   "name": "python",
   "nbconvert_exporter": "python",
   "pygments_lexer": "ipython3",
   "version": "3.12.2"
  }
 },
 "nbformat": 4,
 "nbformat_minor": 4
}
