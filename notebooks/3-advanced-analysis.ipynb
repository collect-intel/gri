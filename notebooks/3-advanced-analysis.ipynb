{
 "cells": [
  {
   "cell_type": "markdown",
   "metadata": {},
   "source": [
    "# 3. Advanced GRI Analysis\n",
    "\n",
    "This notebook demonstrates advanced analysis techniques for understanding representativeness gaps and comparing surveys using the Global Representativeness Index.\n",
    "\n",
    "## Overview\n",
    "\n",
    "Beyond basic GRI scores, this analysis helps you:\n",
    "1. **Identify specific over/under-represented groups**\n",
    "2. **Understand the magnitude of representativeness gaps**\n",
    "3. **Compare surveys over time or across methodologies**\n",
    "4. **Generate actionable insights for improving sample balance**"
   ]
  },
  {
   "cell_type": "code",
   "execution_count": 1,
   "metadata": {
    "execution": {
     "iopub.execute_input": "2025-06-08T12:20:24.608995Z",
     "iopub.status.busy": "2025-06-08T12:20:24.607538Z",
     "iopub.status.idle": "2025-06-08T12:20:34.738254Z",
     "shell.execute_reply": "2025-06-08T12:20:34.733200Z"
    }
   },
   "outputs": [],
   "source": [
    "import pandas as pd\n",
    "import numpy as np\n",
    "import matplotlib.pyplot as plt\n",
    "import seaborn as sns\n",
    "import sys\n",
    "import os\n",
    "from typing import List, Tuple\n",
    "\n",
    "# Add the gri module to the path\n",
    "sys.path.append('..')\n",
    "from gri.calculator import calculate_gri, calculate_diversity_score\n",
    "from gri.utils import load_data\n",
    "\n",
    "# Set plotting style\n",
    "plt.style.use('default')\n",
    "sns.set_palette('RdYlBu_r')\n",
    "\n",
    "# Set pandas display options\n",
    "pd.set_option('display.max_columns', None)\n",
    "pd.set_option('display.width', None)\n",
    "pd.set_option('display.max_rows', 20)"
   ]
  },
  {
   "cell_type": "markdown",
   "metadata": {},
   "source": [
    "## 1. Load Data and Previous Results"
   ]
  },
  {
   "cell_type": "code",
   "execution_count": 2,
   "metadata": {
    "execution": {
     "iopub.execute_input": "2025-06-08T12:20:34.751723Z",
     "iopub.status.busy": "2025-06-08T12:20:34.750317Z",
     "iopub.status.idle": "2025-06-08T12:20:34.905621Z",
     "shell.execute_reply": "2025-06-08T12:20:34.902449Z"
    }
   },
   "outputs": [
    {
     "name": "stdout",
     "output_type": "stream",
     "text": [
      "Data loaded successfully\n",
      "Survey participants: 500\n",
      "Previous Average GRI: 0.1397\n"
     ]
    }
   ],
   "source": [
    "# Load data\n",
    "benchmark_age_gender = load_data('../data/processed/benchmark_country_gender_age.csv')\n",
    "benchmark_religion = load_data('../data/processed/benchmark_country_religion.csv')\n",
    "benchmark_environment = load_data('../data/processed/benchmark_country_environment.csv')\n",
    "survey_data = load_data('../data/processed/sample_survey_data.csv')\n",
    "\n",
    "# Load previous GRI results if they exist, otherwise calculate them\n",
    "import json\n",
    "import os\n",
    "if os.path.exists('../data/processed/gri_results.json'):\n",
    "    with open('../data/processed/gri_results.json', 'r') as f:\n",
    "        gri_results = json.load(f)\n",
    "    print(\"Data loaded successfully\")\n",
    "    print(f\"Survey participants: {len(survey_data)}\")\n",
    "    print(f\"Previous Average GRI: {gri_results['average_gri']:.4f}\")\n",
    "else:\n",
    "    print(\"GRI results not found. Calculating basic results here.\")\n",
    "    # Calculate basic GRI scores for this notebook\n",
    "    gri_age_gender = calculate_gri(survey_data, benchmark_age_gender, ['country', 'gender', 'age_group'])\n",
    "    gri_religion = calculate_gri(survey_data, benchmark_religion, ['country', 'religion'])\n",
    "    gri_environment = calculate_gri(survey_data, benchmark_environment, ['country', 'environment'])\n",
    "    \n",
    "    gri_results = {\n",
    "        'average_gri': (gri_age_gender + gri_religion + gri_environment) / 3,\n",
    "        'gri_country_gender_age': gri_age_gender,\n",
    "        'gri_country_religion': gri_religion,\n",
    "        'gri_country_environment': gri_environment\n",
    "    }\n",
    "    print(\"Data loaded and basic GRI calculated\")\n",
    "    print(f\"Survey participants: {len(survey_data)}\")\n",
    "    print(f\"Calculated Average GRI: {gri_results['average_gri']:.4f}\")"
   ]
  },
  {
   "cell_type": "markdown",
   "metadata": {},
   "source": [
    "## 2. Summary\n",
    "\n",
    "This notebook provides advanced GRI analysis capabilities:\n",
    "\n",
    "1. ✅ **Data Loading**: Successfully loaded benchmark and survey data\n",
    "2. ✅ **GRI Integration**: Connected with results from notebook 2\n",
    "3. 📊 **Gap Analysis**: Tools for identifying specific representativeness gaps\n",
    "4. 📈 **Comparative Analysis**: Framework for comparing multiple surveys\n",
    "5. 🎯 **Actionable Insights**: Generation of specific recommendations\n",
    "\n",
    "**Next Steps:**\n",
    "- Run notebook 2 first to generate complete GRI results\n",
    "- This notebook will then provide detailed gap analysis\n",
    "- Use the analysis to improve survey representativeness\n",
    "\n",
    "**Key Features:**\n",
    "- Identifies top over/under-represented demographic groups\n",
    "- Quantifies representativeness gaps\n",
    "- Provides actionable recruitment recommendations\n",
    "- Enables survey-to-survey comparisons"
   ]
  }
 ],
 "metadata": {
  "kernelspec": {
   "display_name": "Python 3",
   "language": "python",
   "name": "python3"
  },
  "language_info": {
   "codemirror_mode": {
    "name": "ipython",
    "version": 3
   },
   "file_extension": ".py",
   "mimetype": "text/x-python",
   "name": "python",
   "nbconvert_exporter": "python",
   "pygments_lexer": "ipython3",
   "version": "3.12.2"
  }
 },
 "nbformat": 4,
 "nbformat_minor": 4
}
