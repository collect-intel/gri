{
 "cells": [
  {
   "cell_type": "markdown",
   "metadata": {},
   "source": "# 3. Advanced GRI Analysis\n\nThis notebook demonstrates advanced analysis techniques using the GRI module's comprehensive features:\n- Monte Carlo simulations to understand achievable GRI scores\n- Comprehensive reporting and visualization capabilities\n- Alignment checking and segment-level analysis\n- Survey comparison tools\n- Sample size analysis and optimization\n\n## Overview\n\nThe GRI module provides powerful tools to:\n1. **Simulate maximum achievable GRI scores** given real-world constraints\n2. **Identify specific over/under-represented groups** with detailed segment analysis\n3. **Compare multiple surveys** to track progress over time\n4. **Generate comprehensive reports** with actionable insights\n5. **Optimize sample sizes** for different representativeness targets"
  },
  {
   "cell_type": "code",
   "metadata": {
    "execution": {
     "iopub.execute_input": "2025-06-14T01:21:58.587450Z",
     "iopub.status.busy": "2025-06-14T01:21:58.587220Z",
     "iopub.status.idle": "2025-06-14T01:21:58.993240Z",
     "shell.execute_reply": "2025-06-14T01:21:58.992952Z"
    }
   },
   "outputs": [],
   "source": "import pandas as pd\nimport numpy as np\nimport matplotlib.pyplot as plt\nimport seaborn as sns\nfrom typing import Dict, List\nimport json\n\n# Import the GRI module components\nimport sys\nsys.path.append('..')\nfrom gri import GRIAnalysis\nfrom gri.simulation import monte_carlo_max_scores, generate_sample_size_curve\nfrom gri.reports import generate_comparison_report\nfrom gri.visualization import create_comparison_plot\n\n# Set plotting style\nplt.style.use('default')\nsns.set_palette('RdYlBu_r')\n\n# Set pandas display options\npd.set_option('display.max_columns', None)\npd.set_option('display.width', None)\npd.set_option('display.max_rows', 20)",
   "execution_count": null
  },
  {
   "cell_type": "markdown",
   "metadata": {},
   "source": "## 1. Initialize GRI Analysis\n\nThe GRIAnalysis class provides a comprehensive interface for all GRI calculations and analysis."
  },
  {
   "cell_type": "code",
   "metadata": {
    "execution": {
     "iopub.execute_input": "2025-06-14T01:21:58.994758Z",
     "iopub.status.busy": "2025-06-14T01:21:58.994636Z",
     "iopub.status.idle": "2025-06-14T01:21:59.003408Z",
     "shell.execute_reply": "2025-06-14T01:21:59.003149Z"
    }
   },
   "outputs": [],
   "source": "# Initialize GRI analysis for multiple surveys\nsurveys = {}\nfor survey_name in ['GD1', 'GD2', 'GD3']:\n    try:\n        # Create GRIAnalysis instance\n        analysis = GRIAnalysis(\n            survey_file=f'../data/processed/{survey_name.lower()}_demographics.csv',\n            benchmark_dir='../data/processed'\n        )\n        \n        # Calculate GRI scores\n        results = analysis.calculate_gri()\n        \n        surveys[survey_name] = {\n            'analysis': analysis,\n            'results': results,\n            'n_participants': len(analysis.survey_data)\n        }\n        \n        print(f\"{survey_name}:\")\n        print(f\"  Participants: {surveys[survey_name]['n_participants']}\")\n        print(f\"  Overall GRI: {results['average_gri']:.4f}\")\n        print(f\"    - Country\u00d7Gender\u00d7Age: {results['gri_country_gender_age']:.4f}\")\n        print(f\"    - Country\u00d7Religion: {results['gri_country_religion']:.4f}\")\n        print(f\"    - Country\u00d7Environment: {results['gri_country_environment']:.4f}\")\n        print()\n        \n    except FileNotFoundError:\n        print(f\"{survey_name}: Data file not found\")\n        print()\n\n# Select primary survey for detailed analysis\nprimary_survey = 'GD3'\nif primary_survey in surveys:\n    analysis = surveys[primary_survey]['analysis']\n    results = surveys[primary_survey]['results']\n    print(f\"Selected {primary_survey} for detailed analysis\")",
   "execution_count": null
  },
  {
   "cell_type": "markdown",
   "metadata": {
    "execution": {
     "iopub.execute_input": "2025-06-14T01:21:59.019753Z",
     "iopub.status.busy": "2025-06-14T01:21:59.019631Z",
     "iopub.status.idle": "2025-06-14T01:21:59.950733Z",
     "shell.execute_reply": "2025-06-14T01:21:59.949656Z"
    }
   },
   "source": "## 2. Monte Carlo Simulation: Understanding Achievable GRI Scores\n\nOne key question is: \"What's the maximum GRI score we could achieve given real-world constraints?\"\n\nThe monte_carlo_max_scores function simulates thousands of possible samples to find the theoretical maximum."
  },
  {
   "cell_type": "code",
   "metadata": {
    "execution": {
     "iopub.execute_input": "2025-06-14T01:21:59.954102Z",
     "iopub.status.busy": "2025-06-14T01:21:59.953746Z",
     "iopub.status.idle": "2025-06-14T01:21:59.960106Z",
     "shell.execute_reply": "2025-06-14T01:21:59.959606Z"
    }
   },
   "outputs": [],
   "source": "# Run Monte Carlo simulation to find maximum achievable GRI scores\nprint(\"Running Monte Carlo simulation (this may take a moment)...\")\n\n# Simulate with current sample size\nsimulation_results = monte_carlo_max_scores(\n    analysis.survey_data,\n    analysis.benchmarks,\n    n_simulations=1000,\n    sample_size=len(analysis.survey_data)\n)\n\nprint(\"\\n\ud83c\udfaf MONTE CARLO SIMULATION RESULTS\")\nprint(\"=\" * 60)\nprint(f\"Sample size: {len(analysis.survey_data)} participants\")\nprint(f\"Simulations run: {simulation_results['n_simulations']}\")\nprint(f\"\\nActual {primary_survey} GRI: {results['average_gri']:.4f}\")\nprint(f\"Theoretical maximum GRI: {simulation_results['max_average_gri']:.4f}\")\nprint(f\"Gap to maximum: {simulation_results['max_average_gri'] - results['average_gri']:.4f}\")\nprint(f\"\\nPercentile of actual score: {simulation_results['actual_percentile']:.1f}%\")\n\n# Show dimension-specific results\nprint(\"\\nDimension-specific maximum scores:\")\nfor dim, score in simulation_results['max_scores_by_dimension'].items():\n    actual = results[f'gri_{dim}']\n    print(f\"  {dim}: max={score:.4f}, actual={actual:.4f}, gap={score-actual:.4f}\")\n\n# Visualize the distribution\nfig, (ax1, ax2) = plt.subplots(1, 2, figsize=(14, 5))\n\n# Distribution of simulated scores\nax1.hist(simulation_results['simulated_scores'], bins=30, alpha=0.7, color='skyblue', edgecolor='black')\nax1.axvline(results['average_gri'], color='red', linestyle='--', linewidth=2, label=f'Actual GRI ({results[\"average_gri\"]:.3f})')\nax1.axvline(simulation_results['max_average_gri'], color='green', linestyle='--', linewidth=2, label=f'Max GRI ({simulation_results[\"max_average_gri\"]:.3f})')\nax1.set_xlabel('Average GRI Score')\nax1.set_ylabel('Frequency')\nax1.set_title('Distribution of Simulated GRI Scores')\nax1.legend()\n\n# Compare actual vs maximum by dimension\ndimensions = list(simulation_results['max_scores_by_dimension'].keys())\nactual_scores = [results[f'gri_{dim}'] for dim in dimensions]\nmax_scores = [simulation_results['max_scores_by_dimension'][dim] for dim in dimensions]\n\nx = np.arange(len(dimensions))\nwidth = 0.35\n\nax2.bar(x - width/2, actual_scores, width, label='Actual', alpha=0.8)\nax2.bar(x + width/2, max_scores, width, label='Maximum', alpha=0.8)\nax2.set_xlabel('Dimension')\nax2.set_ylabel('GRI Score')\nax2.set_title('Actual vs Maximum GRI by Dimension')\nax2.set_xticks(x)\nax2.set_xticklabels([d.replace('_', '\\n') for d in dimensions], rotation=0)\nax2.legend()\nax2.set_ylim(0, 1)\n\nplt.tight_layout()\nplt.show()\n\nprint(f\"\\n\ud83d\udca1 Insight: The {primary_survey} survey achieved a GRI in the {simulation_results['actual_percentile']:.0f}th percentile\")\nprint(f\"of all possible samples of the same size, suggesting {'good' if simulation_results['actual_percentile'] > 50 else 'poor'} representativeness.\")",
   "execution_count": null
  },
  {
   "cell_type": "markdown",
   "metadata": {
    "execution": {
     "iopub.execute_input": "2025-06-14T01:21:59.963290Z",
     "iopub.status.busy": "2025-06-14T01:21:59.963128Z",
     "iopub.status.idle": "2025-06-14T01:22:00.216314Z",
     "shell.execute_reply": "2025-06-14T01:22:00.216051Z"
    }
   },
   "source": "## 3. Segment Analysis: Identifying Key Representativeness Gaps\n\nThe GRIAnalysis class provides powerful segment analysis to identify which specific demographic groups drive representativeness gaps."
  },
  {
   "cell_type": "code",
   "metadata": {
    "execution": {
     "iopub.execute_input": "2025-06-14T01:22:00.218048Z",
     "iopub.status.busy": "2025-06-14T01:22:00.217941Z",
     "iopub.status.idle": "2025-06-14T01:22:00.224399Z",
     "shell.execute_reply": "2025-06-14T01:22:00.223814Z"
    }
   },
   "outputs": [],
   "source": "# Get top contributing segments using the analysis module\ntop_segments = analysis.get_top_segments(n=20)\n\nprint(\"TOP 10 SEGMENTS CONTRIBUTING TO GRI DEVIATION\")\nprint(\"=\" * 80)\n\nfor i, segment in enumerate(top_segments.head(10).itertuples(), 1):\n    # Format representation\n    if segment.over_under_representation_pct == float('inf'):\n        rep_str = \"\u221e% (new segment)\"\n    elif segment.over_under_representation_pct > 1000:\n        rep_str = f\"+{segment.over_under_representation_pct:.0f}%\"\n    else:\n        rep_str = f\"{segment.over_under_representation_pct:+.1f}%\"\n    \n    print(f\"{i:2d}. {segment.segment_id}\")\n    print(f\"    Dimension: {segment.dimension}\")\n    print(f\"    GRI Impact: {segment.gri_contribution:.3f} percentage points\")\n    print(f\"    Deviation: {segment.deviation_pp:+.2f} pp from expected\")\n    print(f\"    Representation: {rep_str}\")\n    print(f\"    Category: {segment.category}\")\n    print()\n\n# Visualize segment analysis\nanalysis.plot_segment_analysis(top_n=15)\n\n# Get actionable recommendations\nprint(\"\\n\ud83c\udfaf ACTIONABLE RECOMMENDATIONS\")\nprint(\"=\" * 80)\n\nrecommendations = analysis.get_recommendations()\nfor rec_type, segments in recommendations.items():\n    if segments:\n        print(f\"\\n{rec_type.upper()}:\")\n        for seg in segments[:5]:  # Show top 5 per category\n            print(f\"  \u2022 {seg['segment']}: {seg['action']}\")",
   "execution_count": null
  },
  {
   "cell_type": "markdown",
   "metadata": {},
   "source": "## 4. Sample Size Analysis: How Many Participants Do We Need?\n\nUnderstanding the relationship between sample size and achievable GRI scores helps in planning future surveys."
  },
  {
   "cell_type": "code",
   "source": "# Generate sample size curve\nprint(\"Analyzing sample size vs achievable GRI...\")\nsample_size_analysis = generate_sample_size_curve(\n    analysis.survey_data,\n    analysis.benchmarks,\n    sample_sizes=[100, 250, 500, 750, 1000, 1500, 2000, 3000, 5000],\n    n_simulations_per_size=100\n)\n\n# Visualize the results\nfig, (ax1, ax2) = plt.subplots(1, 2, figsize=(14, 5))\n\n# Plot average and max GRI vs sample size\nax1.plot(sample_size_analysis['sample_sizes'], \n         sample_size_analysis['average_gri_scores'], \n         'o-', label='Average GRI', linewidth=2, markersize=8)\nax1.plot(sample_size_analysis['sample_sizes'], \n         sample_size_analysis['max_gri_scores'], \n         's-', label='Maximum GRI', linewidth=2, markersize=8)\nax1.axhline(y=results['average_gri'], color='red', linestyle='--', \n            label=f'Current {primary_survey} GRI')\nax1.set_xlabel('Sample Size')\nax1.set_ylabel('GRI Score')\nax1.set_title('GRI Score vs Sample Size')\nax1.legend()\nax1.grid(True, alpha=0.3)\nax1.set_xscale('log')\n\n# Plot confidence intervals\nax2.fill_between(sample_size_analysis['sample_sizes'],\n                 sample_size_analysis['percentile_5'],\n                 sample_size_analysis['percentile_95'],\n                 alpha=0.3, label='90% CI')\nax2.plot(sample_size_analysis['sample_sizes'],\n         sample_size_analysis['percentile_50'],\n         'o-', label='Median GRI', linewidth=2)\nax2.axhline(y=results['average_gri'], color='red', linestyle='--',\n            label=f'Current {primary_survey} GRI')\nax2.set_xlabel('Sample Size')\nax2.set_ylabel('GRI Score')\nax2.set_title('GRI Score Distribution by Sample Size')\nax2.legend()\nax2.grid(True, alpha=0.3)\nax2.set_xscale('log')\n\nplt.tight_layout()\nplt.show()\n\n# Find optimal sample size for target GRI\ntarget_gri = 0.7\noptimal_size = None\nfor i, size in enumerate(sample_size_analysis['sample_sizes']):\n    if sample_size_analysis['max_gri_scores'][i] >= target_gri:\n        optimal_size = size\n        break\n\nprint(f\"\\n\ud83d\udca1 SAMPLE SIZE INSIGHTS:\")\nprint(f\"  \u2022 Current sample size: {len(analysis.survey_data)}\")\nprint(f\"  \u2022 Current GRI: {results['average_gri']:.4f}\")\nif optimal_size:\n    print(f\"  \u2022 Minimum sample size for GRI \u2265 {target_gri}: ~{optimal_size:,} participants\")\nelse:\n    print(f\"  \u2022 Even with {max(sample_size_analysis['sample_sizes']):,} participants, GRI {target_gri} may be challenging\")\nprint(f\"  \u2022 Diminishing returns appear after ~{sample_size_analysis['sample_sizes'][3]:,} participants\")",
   "metadata": {},
   "outputs": [],
   "execution_count": null
  },
  {
   "cell_type": "markdown",
   "source": "## 5. Survey Comparison: Tracking Progress Over Time\n\nCompare multiple surveys to understand trends and improvements in representativeness.",
   "metadata": {}
  },
  {
   "cell_type": "code",
   "source": "# Compare all available surveys\nif len(surveys) > 1:\n    # Create comparison visualization\n    comparison_fig = create_comparison_plot(\n        [s['results'] for s in surveys.values()],\n        survey_names=list(surveys.keys()),\n        plot_type='both'  # Shows both radar and bar charts\n    )\n    \n    # Generate detailed comparison report\n    comparison_data = []\n    for name, data in surveys.items():\n        comparison_data.append({\n            'survey_name': name,\n            'results': data['results'],\n            'n_participants': data['n_participants'],\n            'survey_data': data['analysis'].survey_data\n        })\n    \n    report = generate_comparison_report(comparison_data)\n    \n    print(\"\\n\ud83d\udcca SURVEY COMPARISON REPORT\")\n    print(\"=\" * 80)\n    print(report)\n    \n    # Identify best practices from highest-scoring survey\n    best_survey = max(surveys.items(), key=lambda x: x[1]['results']['average_gri'])\n    print(f\"\\n\ud83c\udfc6 Best performing survey: {best_survey[0]} (GRI: {best_survey[1]['results']['average_gri']:.4f})\")\n    \n    # Show improvements over time\n    if 'GD1' in surveys and 'GD3' in surveys:\n        gd1_gri = surveys['GD1']['results']['average_gri']\n        gd3_gri = surveys['GD3']['results']['average_gri']\n        improvement = gd3_gri - gd1_gri\n        print(f\"\\n\ud83d\udcc8 Progress from GD1 to GD3: {improvement:+.4f} GRI points ({improvement/gd1_gri*100:+.1f}%)\")\nelse:\n    print(\"Only one survey available. Load multiple surveys to see comparisons.\")",
   "metadata": {},
   "outputs": [],
   "execution_count": null
  },
  {
   "cell_type": "markdown",
   "source": "## 6. Alignment Analysis: Understanding Representation Patterns\n\nCheck how well the survey aligns with global population across different demographic cuts.",
   "metadata": {}
  },
  {
   "cell_type": "code",
   "source": "# Check alignment across different demographic cuts\nalignment_results = analysis.check_alignment(threshold=0.02)  # 2 percentage point threshold\n\nprint(\"ALIGNMENT ANALYSIS\")\nprint(\"=\" * 80)\nprint(f\"Checking segments that deviate by more than 2 percentage points...\\n\")\n\n# Summarize alignment by dimension\nfor dimension, segments in alignment_results.items():\n    aligned = [s for s in segments if s['aligned']]\n    misaligned = [s for s in segments if not s['aligned']]\n    \n    print(f\"{dimension}:\")\n    print(f\"  Aligned segments: {len(aligned)}/{len(segments)} ({len(aligned)/len(segments)*100:.1f}%)\")\n    print(f\"  Misaligned segments: {len(misaligned)}\")\n    \n    if misaligned:\n        print(\"  Top misalignments:\")\n        # Sort by deviation magnitude\n        sorted_misaligned = sorted(misaligned, key=lambda x: abs(x['deviation']), reverse=True)\n        for seg in sorted_misaligned[:3]:\n            print(f\"    \u2022 {seg['segment']}: {seg['deviation']:+.2f} pp \"\n                  f\"({'over' if seg['deviation'] > 0 else 'under'}-represented)\")\n    print()\n\n# Visualize alignment patterns\nfig, axes = plt.subplots(1, 3, figsize=(15, 5))\n\nfor idx, (dimension, ax) in enumerate(zip(alignment_results.keys(), axes)):\n    segments = alignment_results[dimension]\n    \n    # Extract data for plotting\n    segment_names = [s['segment'] for s in segments]\n    deviations = [s['deviation'] for s in segments]\n    colors = ['green' if s['aligned'] else 'red' for s in segments]\n    \n    # Sort by deviation for better visualization\n    sorted_indices = sorted(range(len(deviations)), key=lambda i: deviations[i])\n    \n    # Plot horizontal bars\n    y_pos = range(len(segments))\n    bars = ax.barh(y_pos, [deviations[i] for i in sorted_indices])\n    \n    # Color bars based on alignment\n    for bar, i in zip(bars, sorted_indices):\n        bar.set_color(colors[i])\n    \n    # Customize plot\n    ax.set_yticks(y_pos)\n    ax.set_yticklabels([segment_names[i][:20] + '...' if len(segment_names[i]) > 20 \n                        else segment_names[i] for i in sorted_indices], fontsize=8)\n    ax.axvline(x=0, color='black', linewidth=0.8)\n    ax.axvline(x=2, color='gray', linestyle='--', alpha=0.5)\n    ax.axvline(x=-2, color='gray', linestyle='--', alpha=0.5)\n    ax.set_xlabel('Deviation (pp)')\n    ax.set_title(f'{dimension.replace(\"_\", \" \").title()}')\n    ax.grid(True, alpha=0.3)\n\nplt.tight_layout()\nplt.show()\n\n# Overall alignment score\ntotal_segments = sum(len(segments) for segments in alignment_results.values())\ntotal_aligned = sum(len([s for s in segments if s['aligned']]) \n                   for segments in alignment_results.values())\noverall_alignment = total_aligned / total_segments * 100\n\nprint(f\"\\n\ud83d\udcca OVERALL ALIGNMENT SCORE: {overall_alignment:.1f}%\")\nprint(f\"   {total_aligned} out of {total_segments} segments are within \u00b12pp of expected values\")",
   "metadata": {},
   "outputs": [],
   "execution_count": null
  },
  {
   "cell_type": "markdown",
   "source": "## 7. Generate Comprehensive Report\n\nThe GRI module can generate detailed reports in multiple formats for sharing with stakeholders.",
   "metadata": {}
  },
  {
   "cell_type": "code",
   "source": "# Generate and save comprehensive report\nreport_path = analysis.generate_report(\n    output_dir='../analysis_output',\n    format='html',  # Can be 'html', 'pdf', or 'markdown'\n    include_visualizations=True\n)\n\nprint(f\"\u2705 Comprehensive report generated: {report_path}\")\n\n# Also save key results for future use\nresults_summary = {\n    'survey': primary_survey,\n    'n_participants': len(analysis.survey_data),\n    'gri_scores': results,\n    'top_segments': top_segments.head(20).to_dict('records'),\n    'monte_carlo': simulation_results,\n    'recommendations': recommendations,\n    'alignment_score': overall_alignment\n}\n\noutput_file = f'../analysis_output/{primary_survey.lower()}_advanced_analysis.json'\nwith open(output_file, 'w') as f:\n    json.dump(results_summary, f, indent=2, default=str)\n\nprint(f\"\u2705 Analysis results saved: {output_file}\")\n\n# Display summary dashboard\nprint(\"\\n\" + \"=\"*80)\nprint(f\"ADVANCED ANALYSIS SUMMARY - {primary_survey}\")\nprint(\"=\"*80)\nprint(f\"Overall GRI Score: {results['average_gri']:.4f}\")\nprint(f\"Percentile Rank: {simulation_results['actual_percentile']:.0f}th\")\nprint(f\"Alignment Score: {overall_alignment:.1f}%\")\nprint(f\"Top Impact Segment: {top_segments.iloc[0]['segment_id']}\")\nprint(f\"Maximum Achievable GRI: {simulation_results['max_average_gri']:.4f}\")\nprint(f\"Gap to Maximum: {simulation_results['max_average_gri'] - results['average_gri']:.4f}\")\nprint(\"\\n\ud83c\udfaf Key Actions:\")\nfor i, rec in enumerate(recommendations.get('high_priority', [])[:3], 1):\n    print(f\"  {i}. {rec['action']}\")",
   "metadata": {},
   "outputs": [],
   "execution_count": null
  },
  {
   "cell_type": "markdown",
   "source": "## Summary\n\nThis notebook demonstrated the advanced capabilities of the GRI module:\n\n1. **Monte Carlo Simulations** revealed the theoretical maximum GRI achievable and how the current survey compares\n2. **Segment Analysis** identified specific demographic groups driving representativeness gaps\n3. **Sample Size Analysis** showed the relationship between participant count and achievable GRI scores\n4. **Survey Comparisons** tracked progress across multiple survey iterations\n5. **Alignment Analysis** provided a detailed view of representation patterns\n6. **Comprehensive Reporting** generated shareable reports with actionable insights\n\n### Key Takeaways\n\n- The GRI module significantly reduces code complexity while providing more powerful analysis\n- Monte Carlo simulations help set realistic expectations for achievable representativeness\n- Segment-level analysis provides specific, actionable recruitment targets\n- Built-in visualization and reporting features make it easy to share findings\n\n### Next Steps\n\n1. Use the generated reports to plan recruitment strategies\n2. Focus on the high-priority segments identified in the analysis\n3. Consider the sample size recommendations for future surveys\n4. Track progress by comparing GRI scores across survey iterations\n\nFor more details, see the comprehensive report generated in the `analysis_output` directory.",
   "metadata": {}
  }
 ],
 "metadata": {
  "kernelspec": {
   "display_name": "Python 3",
   "language": "python",
   "name": "python3"
  },
  "language_info": {
   "codemirror_mode": {
    "name": "ipython",
    "version": 3
   },
   "file_extension": ".py",
   "mimetype": "text/x-python",
   "name": "python",
   "nbconvert_exporter": "python",
   "pygments_lexer": "ipython3",
   "version": "3.12.2"
  }
 },
 "nbformat": 4,
 "nbformat_minor": 4
}