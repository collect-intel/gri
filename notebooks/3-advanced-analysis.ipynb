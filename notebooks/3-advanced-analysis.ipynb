{
 "cells": [
  {
   "cell_type": "markdown",
   "metadata": {},
   "source": [
    "# 3. Advanced GRI Analysis\n",
    "\n",
    "This notebook demonstrates advanced analysis techniques for understanding representativeness gaps and comparing surveys using the Global Representativeness Index.\n",
    "\n",
    "## Overview\n",
    "\n",
    "Beyond basic GRI scores, this analysis helps you:\n",
    "1. **Identify specific over/under-represented groups**\n",
    "2. **Understand the magnitude of representativeness gaps**\n",
    "3. **Compare surveys over time or across methodologies**\n",
    "4. **Generate actionable insights for improving sample balance**"
   ]
  },
  {
   "cell_type": "code",
   "execution_count": 1,
   "metadata": {
    "execution": {
     "iopub.execute_input": "2025-06-09T08:10:21.411016Z",
     "iopub.status.busy": "2025-06-09T08:10:21.410562Z",
     "iopub.status.idle": "2025-06-09T08:10:21.756352Z",
     "shell.execute_reply": "2025-06-09T08:10:21.756061Z"
    }
   },
   "outputs": [],
   "source": [
    "import pandas as pd\n",
    "import numpy as np\n",
    "import matplotlib.pyplot as plt\n",
    "import seaborn as sns\n",
    "import sys\n",
    "import os\n",
    "from typing import List, Tuple\n",
    "\n",
    "# Add the gri module to the path\n",
    "sys.path.append('..')\n",
    "from gri.calculator import calculate_gri, calculate_diversity_score\n",
    "from gri.utils import load_data\n",
    "\n",
    "# Set plotting style\n",
    "plt.style.use('default')\n",
    "sns.set_palette('RdYlBu_r')\n",
    "\n",
    "# Set pandas display options\n",
    "pd.set_option('display.max_columns', None)\n",
    "pd.set_option('display.width', None)\n",
    "pd.set_option('display.max_rows', 20)"
   ]
  },
  {
   "cell_type": "markdown",
   "metadata": {},
   "source": [
    "## 1. Load Data and Previous Results"
   ]
  },
  {
   "cell_type": "code",
   "metadata": {
    "execution": {
     "iopub.execute_input": "2025-06-09T08:10:21.757877Z",
     "iopub.status.busy": "2025-06-09T08:10:21.757761Z",
     "iopub.status.idle": "2025-06-09T08:10:21.764110Z",
     "shell.execute_reply": "2025-06-09T08:10:21.763871Z"
    }
   },
   "outputs": [],
   "source": "# Load actual GD survey data\nsurvey_options = {\n    'GD1': '../data/processed/gd1_demographics.csv',\n    'GD2': '../data/processed/gd2_demographics.csv', \n    'GD3': '../data/processed/gd3_demographics.csv'\n}\n\n# Choose which survey to analyze (default: GD3)\nselected_survey = 'GD3'\nsurvey_data = load_data(survey_options[selected_survey])\n\n# Load benchmark data\nbenchmark_age_gender = load_data('../data/processed/benchmark_country_gender_age.csv')\nbenchmark_religion = load_data('../data/processed/benchmark_country_religion.csv')\nbenchmark_environment = load_data('../data/processed/benchmark_country_environment.csv')\n\n# Load previous GRI results if they exist for this survey\nimport json\nimport os\nresults_file = f'../data/processed/{selected_survey.lower()}_gri_results.json'\nif os.path.exists(results_file):\n    with open(results_file, 'r') as f:\n        gri_results = json.load(f)\n    print(f\"Data loaded successfully for {selected_survey}\")\n    print(f\"Survey participants: {len(survey_data)}\")\n    print(f\"Average GRI: {gri_results['average_gri']:.4f}\")\nelse:\n    print(f\"GRI results not found for {selected_survey}. Calculating basic results here.\")\n    # Calculate basic GRI scores for this notebook\n    gri_age_gender = calculate_gri(survey_data, benchmark_age_gender, ['country', 'gender', 'age_group'])\n    gri_religion = calculate_gri(survey_data, benchmark_religion, ['country', 'religion'])\n    gri_environment = calculate_gri(survey_data, benchmark_environment, ['country', 'environment'])\n    \n    gri_results = {\n        'survey_name': selected_survey,\n        'average_gri': (gri_age_gender + gri_religion + gri_environment) / 3,\n        'gri_country_gender_age': gri_age_gender,\n        'gri_country_religion': gri_religion,\n        'gri_country_environment': gri_environment\n    }\n    print(f\"Data loaded and basic GRI calculated for {selected_survey}\")\n    print(f\"Survey participants: {len(survey_data)}\")\n    print(f\"Calculated Average GRI: {gri_results['average_gri']:.4f}\")\n\n# Show survey composition\nprint(f\"\\n{selected_survey} Survey Composition:\")\nprint(f\"  Countries: {survey_data['country'].nunique()} ({list(survey_data['country'].value_counts().head().index)})\")\nprint(f\"  Age groups: {list(survey_data['age_group'].value_counts().index)}\")\nprint(f\"  Gender: {dict(survey_data['gender'].value_counts())}\")\nprint(f\"  Environment: {dict(survey_data['environment'].value_counts())}\")"
  },
  {
   "cell_type": "code",
   "source": "# Run top contributing segments analysis\nimport subprocess\nimport sys\n\n# Run the segments analysis script\nsurvey_file = f'../data/processed/{selected_survey.lower()}_demographics.csv'\nresult = subprocess.run([\n    sys.executable, '../scripts/analyze_top_segments.py', \n    survey_file, '--top-n', '15', '--output-dir', '../analysis_output'\n], capture_output=True, text=True)\n\nif result.returncode == 0:\n    print(\"✅ Top segments analysis completed successfully!\")\n    print(result.stdout.split('Analysis date:')[0].strip())  # Show summary without the full output\nelse:\n    print(\"❌ Error running segments analysis:\")\n    print(result.stderr)\n\n# Load the generated analysis results\nsegments_file = f'../analysis_output/{selected_survey.lower()}_top_contributing_segments.csv'\nif os.path.exists(segments_file):\n    top_segments = pd.read_csv(segments_file)\n    print(f\"\\nLoaded top {len(top_segments)} contributing segments from analysis\")\nelse:\n    print(\"Warning: Could not load segments analysis results\")",
   "metadata": {},
   "outputs": []
  },
  {
   "cell_type": "code",
   "source": "# Display top contributing segments\nif 'top_segments' in locals():\n    print(\"=\" * 80)\n    print(f\"TOP 10 SEGMENTS CONTRIBUTING TO {selected_survey} GRI DEVIATION\")\n    print(\"=\" * 80)\n    \n    top_10 = top_segments.head(10)\n    total_contribution = top_10['gri_contribution_points'].sum()\n    \n    for i, (_, segment) in enumerate(top_10.iterrows(), 1):\n        # Format representation percentage\n        if segment['over_under_representation_pct'] == np.inf:\n            rep_str = \"∞% (new segment)\"\n        elif segment['over_under_representation_pct'] > 1000:\n            rep_str = f\"+{segment['over_under_representation_pct']:.0f}%\"\n        else:\n            rep_str = f\"{segment['over_under_representation_pct']:+.1f}%\"\n        \n        print(f\"{i:2d}. {segment['stratum_id']}\")\n        print(f\"    Dimension: {segment['dimension']}\")\n        print(f\"    GRI Impact: {segment['gri_contribution_points']:.3f} percentage points\")\n        print(f\"    Deviation: {segment['deviation_percentage_points']:+.2f} pp from expected\")\n        print(f\"    Representation: {rep_str}\")\n        print(f\"    Status: {segment['representation_category']}\")\n        print()\n    \n    print(f\"These top 10 segments contribute {total_contribution:.2f} percentage points\")\n    print(f\"to the total GRI deviation across all dimensions.\")\n    \n    # Show category breakdown\n    category_counts = top_10['representation_category'].value_counts()\n    print(f\"\\nTop 10 Segment Categories:\")\n    for category, count in category_counts.items():\n        print(f\"  {category}: {count} segments\")\nelse:\n    print(\"No segment analysis data available.\")",
   "metadata": {},
   "outputs": []
  },
  {
   "cell_type": "code",
   "source": "# Visualize top contributing segments\nif 'top_segments' in locals():\n    fig, axes = plt.subplots(2, 2, figsize=(16, 12))\n    \n    # 1. Top 15 segments by GRI contribution\n    top_15 = top_segments.head(15)\n    \n    # Truncate long segment names for display\n    segment_names = [name[:40] + \"...\" if len(name) > 40 else name \n                    for name in top_15['stratum_id']]\n    \n    bars = axes[0,0].barh(range(len(top_15)), top_15['gri_contribution_points'])\n    axes[0,0].set_yticks(range(len(top_15)))\n    axes[0,0].set_yticklabels(segment_names, fontsize=8)\n    axes[0,0].set_xlabel('GRI Contribution (Percentage Points)')\n    axes[0,0].set_title(f'Top 15 Contributing Segments - {selected_survey}')\n    axes[0,0].invert_yaxis()\n    \n    # Color bars by representation category\n    colors = {'Missing': 'red', 'Highly Under-represented': 'orange', \n              'Under-represented': 'yellow', 'Over-represented': 'lightblue',\n              'Highly Over-represented': 'blue'}\n    for i, (_, segment) in enumerate(top_15.iterrows()):\n        bars[i].set_color(colors.get(segment['representation_category'], 'gray'))\n    \n    # 2. Contribution by dimension\n    dim_contrib = top_segments.groupby('dimension')['gri_contribution_points'].sum().sort_values(ascending=False)\n    axes[0,1].pie(dim_contrib.values, labels=dim_contrib.index, autopct='%1.1f%%')\n    axes[0,1].set_title('GRI Impact by Dimension')\n    \n    # 3. Representation categories distribution\n    if len(top_segments) > 0:\n        category_counts = top_segments.head(20)['representation_category'].value_counts()\n        bars2 = axes[1,0].bar(range(len(category_counts)), category_counts.values)\n        axes[1,0].set_xticks(range(len(category_counts)))\n        axes[1,0].set_xticklabels(category_counts.index, rotation=45, ha='right')\n        axes[1,0].set_ylabel('Number of Segments')\n        axes[1,0].set_title('Representation Categories (Top 20 Segments)')\n        \n        # Color bars by category\n        for i, cat in enumerate(category_counts.index):\n            bars2[i].set_color(colors.get(cat, 'gray'))\n    \n    # 4. Deviation vs Contribution scatter\n    scatter_data = top_segments.head(20)\n    scatter = axes[1,1].scatter(scatter_data['deviation_percentage_points'], \n                               scatter_data['gri_contribution_points'],\n                               c=[colors.get(cat, 'gray') for cat in scatter_data['representation_category']],\n                               alpha=0.7, s=50)\n    axes[1,1].set_xlabel('Deviation (Percentage Points)')\n    axes[1,1].set_ylabel('GRI Contribution (Percentage Points)')\n    axes[1,1].set_title('Deviation vs GRI Impact (Top 20)')\n    axes[1,1].axvline(x=0, color='black', linestyle='--', alpha=0.5)\n    \n    # Add legend\n    legend_elements = [plt.Line2D([0], [0], marker='o', color='w', \n                                 markerfacecolor=color, markersize=8, label=category)\n                      for category, color in colors.items()]\n    axes[1,1].legend(handles=legend_elements, bbox_to_anchor=(1.05, 1), loc='upper left')\n    \n    plt.tight_layout()\n    plt.show()\n    \n    print(f\"\\\\n📊 Visualization shows the {selected_survey} survey's main representativeness challenges:\")\n    print(\"• Red/Orange: Missing or under-represented segments that should be recruited\")\n    print(\"• Blue: Over-represented segments that could be reduced in future sampling\")\n    print(\"• The scatter plot shows how deviation magnitude correlates with GRI impact\")\nelse:\n    print(\"No segment data available for visualization.\")",
   "metadata": {},
   "outputs": []
  },
  {
   "cell_type": "code",
   "source": "# Generate actionable recommendations\nif 'top_segments' in locals():\n    print(\"🎯 ACTIONABLE RECOMMENDATIONS FOR IMPROVING REPRESENTATIVENESS\")\n    print(\"=\" * 80)\n    \n    # Analyze patterns in top contributing segments\n    over_rep = top_segments[top_segments['representation_category'].isin(['Over-represented', 'Highly Over-represented'])].head(5)\n    under_rep = top_segments[top_segments['representation_category'].isin(['Under-represented', 'Highly Under-represented'])].head(5)\n    missing = top_segments[top_segments['representation_category'] == 'Missing'].head(5)\n    \n    if len(over_rep) > 0:\n        print(\"\\\\n📉 REDUCE RECRUITMENT FROM OVER-REPRESENTED SEGMENTS:\")\n        for _, segment in over_rep.iterrows():\n            current_pct = segment['sample_proportion'] * 100\n            target_pct = segment['population_proportion'] * 100\n            reduction = current_pct - target_pct\n            print(f\"  • {segment['stratum_id']}\")\n            print(f\"    Current: {current_pct:.2f}% → Target: {target_pct:.2f}% (reduce by {reduction:.2f} pp)\")\n    \n    if len(under_rep) > 0:\n        print(\"\\\\n📈 INCREASE RECRUITMENT FROM UNDER-REPRESENTED SEGMENTS:\")\n        for _, segment in under_rep.iterrows():\n            current_pct = segment['sample_proportion'] * 100\n            target_pct = segment['population_proportion'] * 100\n            increase = target_pct - current_pct\n            print(f\"  • {segment['stratum_id']}\")\n            print(f\"    Current: {current_pct:.2f}% → Target: {target_pct:.2f}% (increase by {increase:.2f} pp)\")\n    \n    if len(missing) > 0:\n        print(\"\\\\n🎯 RECRUIT FROM MISSING SEGMENTS:\")\n        for _, segment in missing.iterrows():\n            target_pct = segment['population_proportion'] * 100\n            print(f\"  • {segment['stratum_id']}\")\n            print(f\"    Target: {target_pct:.2f}% (currently 0%)\")\n    \n    # Calculate potential GRI improvement\n    top_10_impact = top_segments.head(10)['gri_contribution_points'].sum()\n    current_gri = gri_results.get('average_gri', 0)\n    potential_gri = current_gri + (top_10_impact / 100)\n    \n    print(f\"\\\\n💡 IMPACT ANALYSIS:\")\n    print(f\"  Current Average GRI: {current_gri:.4f}\")\n    print(f\"  Top 10 segments contribute: {top_10_impact:.2f} percentage points of deviation\")\n    print(f\"  Potential GRI if top issues addressed: {potential_gri:.4f}\")\n    print(f\"  Estimated improvement: +{(potential_gri - current_gri):.4f} GRI points\")\n    \n    # Priority recommendations by dimension\n    print(f\"\\\\n🔍 DIMENSION-SPECIFIC PRIORITIES:\")\n    dim_priorities = top_segments.head(15).groupby('dimension')['gri_contribution_points'].sum().sort_values(ascending=False)\n    for dim, impact in dim_priorities.items():\n        print(f\"  • {dim}: {impact:.2f} pp total impact - High priority for rebalancing\")\n    \n    print(f\"\\\\n📋 NEXT STEPS:\")\n    print(f\"  1. Use the detailed segment analysis files in analysis_output/ for recruitment planning\")\n    print(f\"  2. Focus first on the top 5-10 contributing segments for maximum impact\")\n    print(f\"  3. Consider stratified sampling quotas for future {selected_survey} surveys\")\n    print(f\"  4. Monitor progress by re-running this analysis after recruitment adjustments\")\nelse:\n    print(\"No segment analysis available for generating recommendations.\")",
   "metadata": {},
   "outputs": []
  },
  {
   "cell_type": "markdown",
   "metadata": {},
   "source": "## 2. Top Contributing Segments Analysis\n\nUnderstanding which demographic segments contribute most to GRI deviations helps identify specific groups that are over- or under-represented, providing actionable insights for improving survey balance.\n\n**Key Metrics:**\n- **GRI Contribution**: How many percentage points each segment contributes to the overall GRI gap\n- **Deviation**: How many percentage points the segment deviates from expected representation  \n- **Representation Ratio**: How over/under-represented the segment is (as a percentage)\n\nLet's analyze the segments that most impact the representativeness of our survey.",
   "outputs": []
  }
 ],
 "metadata": {
  "kernelspec": {
   "display_name": "Python 3",
   "language": "python",
   "name": "python3"
  },
  "language_info": {
   "codemirror_mode": {
    "name": "ipython",
    "version": 3
   },
   "file_extension": ".py",
   "mimetype": "text/x-python",
   "name": "python",
   "nbconvert_exporter": "python",
   "pygments_lexer": "ipython3",
   "version": "3.12.2"
  }
 },
 "nbformat": 4,
 "nbformat_minor": 4
}